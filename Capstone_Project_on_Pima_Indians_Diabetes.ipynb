{
  "cells": [
    {
      "cell_type": "markdown",
      "id": "2f6dd974",
      "metadata": {
        "id": "2f6dd974"
      },
      "source": [
        "### PROBLEM STATEMENT:\n",
        "Using the Pima Indians Diabetes dataset. Predict whether a patient is diabetic or not, using Voting Classifier. Use different classification algorithms to build the base models. Perform necessary Exploratory Data Analysis before Model building step. Tune the parameters using GridSearchCV and check for the improvement. Evaluate the model based on performance metrics other than model accuracy."
      ]
    },
    {
      "cell_type": "markdown",
      "id": "ace88c21",
      "metadata": {
        "id": "ace88c21"
      },
      "source": [
        "### Data Definition:\n",
        "\n",
        "- Variables in the Pima Indians Diabetes dataset:\n",
        "###### Pregnancies:\n",
        "- Number of times pregnant\n",
        "###### Glucose:\n",
        "- Plasma glucose concentration a 2 hours in an oral glucose tolerance test\n",
        "###### BloodPressure:\n",
        "- Diastolic blood pressure(mm Hg)\n",
        "###### SkinThickness\n",
        "- Triceps skin fold thickness (mm)\n",
        "###### Insulin:\n",
        "- 2-Hour serum insulin (mu U/ml)\n",
        "###### BMI:\n",
        "- Body mass index (weight in kg/(height in m)^2)\n",
        "###### DiabetesPedigreeFunction:\n",
        "- Diabetes pedigree function (a function which scores likelihood of diabetes based on family history)\n",
        "###### Age\n",
        "- Age(years)\n",
        "###### Outcome\n",
        "- Class variable (0 if non-diabetic, 1 if diabetic)"
      ]
    },
    {
      "cell_type": "markdown",
      "id": "07bdbe90",
      "metadata": {
        "id": "07bdbe90"
      },
      "source": [
        "### CONTENTS:\n",
        "\n",
        "1. Import packages\n",
        "\n",
        "\n",
        "2. Load the data \n",
        "\n",
        "\n",
        "3. Understand the data\n",
        "\n",
        "\n",
        "4. Exploratory Data Analysis\n",
        "- 4.1 Datatypes\n",
        "- 4.2 Univariate Analysis\n",
        "- 4.3 Statistical Summary\n",
        "- 4.4 Missing values detection and treatment\n",
        "- 4.5 Duplicated values detection and treatment\n",
        "- 4.6 Outlier detection and treatment using Z-Score method\n",
        "- 4.7 Correlation matrix\n",
        "- 4.8 Splitting the data into feature and target variables\n",
        "- 4.9 Data Normalization\n",
        "\n",
        "5. Base Model Building\n",
        "- 5.1 Instantiating base model objects\n",
        "- 5.2 Splitting the data using Stratified K-Fold method\n",
        "- 5.3 Mean Accuracy \n",
        "\n",
        "6. Hyperparameter Tuning\n",
        "- 6.1 Logistic Regression\n",
        "- 6.2 K-Nearest Neighbors\n",
        "- 6.3 Random Forest\n",
        "- 6.4 Support Vector Machines\n",
        "- 6.5 AdaBoost\n",
        "- 6.6 Gradient Boosting\n",
        "- 6.7 XGBoost\n",
        "- 6.8 Mean Accuracy after Hyperparameter tuning\n",
        "- 6.9 Accuracy of the best saved models\n",
        "\n",
        "7. Voting Classifier\n",
        "\n",
        "\n",
        "8. Performance Metrics\n",
        "- 8.1 Confusion matrix\n",
        "- 8.2 ROC curve\n",
        "- 8.3 Performance metrics in tabulated format\n",
        "\n",
        "\n",
        "9. Conclusion"
      ]
    },
    {
      "cell_type": "markdown",
      "id": "5d480f08",
      "metadata": {
        "id": "5d480f08"
      },
      "source": [
        "### 1. Import Packages"
      ]
    },
    {
      "cell_type": "code",
      "execution_count": 1,
      "id": "48f7bc9b",
      "metadata": {
        "id": "48f7bc9b"
      },
      "outputs": [],
      "source": [
        "# To perform complex mathematical operations\n",
        "import numpy as np\n",
        "\n",
        "# For reading and manipulating data\n",
        "import pandas as pd\n",
        "\n",
        "# For data visualization\n",
        "import matplotlib.pyplot as plt\n",
        "import seaborn as sns\n",
        "\n",
        "# For suppressing the warnings\n",
        "import warnings\n",
        "warnings.filterwarnings('ignore')\n",
        "\n",
        "# For data Normalization\n",
        "from sklearn.preprocessing import StandardScaler\n",
        "\n",
        "# For splitting the data into training and testing sets\n",
        "from sklearn.model_selection import StratifiedKFold\n",
        "from sklearn.model_selection import cross_val_score\n",
        "\n",
        "# For hyperparameter tuning\n",
        "from sklearn.model_selection import GridSearchCV\n",
        "\n",
        "# For checking performance of the model\n",
        "from sklearn import metrics\n",
        "from sklearn.metrics import accuracy_score\n",
        "from sklearn.metrics import confusion_matrix\n",
        "from sklearn.metrics import roc_curve\n",
        "from sklearn.metrics import roc_auc_score\n",
        "\n",
        "# For model building\n",
        "# 1. Logistic Regression\n",
        "from sklearn.linear_model import LogisticRegression\n",
        "# 2. KNN\n",
        "from sklearn.neighbors import KNeighborsClassifier\n",
        "# 3. Random Forest\n",
        "from sklearn.ensemble import RandomForestClassifier\n",
        "# 4. SVM\n",
        "from sklearn.svm import SVC\n",
        "# 5. Adaboost Classifier\n",
        "from sklearn.ensemble import AdaBoostClassifier\n",
        "# 6. Gradient Boosting Classifier\n",
        "from sklearn.ensemble import GradientBoostingClassifier\n",
        "# 7. XGBoost\n",
        "from xgboost import XGBClassifier\n",
        "# 8. Voting Classifier\n",
        "from sklearn.ensemble import VotingClassifier\n",
        "\n",
        "# To tabulate the results\n",
        "from tabulate import tabulate"
      ]
    },
    {
      "cell_type": "code",
      "execution_count": 2,
      "id": "9f8e8826",
      "metadata": {
        "id": "9f8e8826"
      },
      "outputs": [],
      "source": [
        "# Plot setting\n",
        "plt.style.use('ggplot')"
      ]
    },
    {
      "cell_type": "markdown",
      "id": "55869b24",
      "metadata": {
        "id": "55869b24"
      },
      "source": [
        "### 2. Load the data"
      ]
    },
    {
      "cell_type": "code",
      "execution_count": 3,
      "id": "fc449744",
      "metadata": {
        "id": "fc449744"
      },
      "outputs": [],
      "source": [
        "# Load the data\n",
        "data = pd.read_csv('/content/diabetes.csv')"
      ]
    },
    {
      "cell_type": "markdown",
      "id": "96269262",
      "metadata": {
        "id": "96269262"
      },
      "source": [
        "### 3. Understand the data"
      ]
    },
    {
      "cell_type": "code",
      "execution_count": 4,
      "id": "a919e340",
      "metadata": {
        "colab": {
          "base_uri": "https://localhost:8080/"
        },
        "id": "a919e340",
        "outputId": "d7a835e3-38ee-47ef-e780-d2eafe1182fb"
      },
      "outputs": [
        {
          "output_type": "execute_result",
          "data": {
            "text/plain": [
              "(768, 9)"
            ]
          },
          "metadata": {},
          "execution_count": 4
        }
      ],
      "source": [
        "# Shape of the dataset\n",
        "data.shape"
      ]
    },
    {
      "cell_type": "markdown",
      "id": "9ec9f1ee",
      "metadata": {
        "id": "9ec9f1ee"
      },
      "source": [
        "- Number of rows = 768\n",
        "- Number of columns = 9"
      ]
    },
    {
      "cell_type": "code",
      "execution_count": 5,
      "id": "43d7a62b",
      "metadata": {
        "colab": {
          "base_uri": "https://localhost:8080/",
          "height": 206
        },
        "id": "43d7a62b",
        "outputId": "842801ac-d6eb-49b2-9398-bcb9b6613381"
      },
      "outputs": [
        {
          "output_type": "execute_result",
          "data": {
            "text/plain": [
              "   Pregnancies  Glucose  BloodPressure  SkinThickness  Insulin   BMI  \\\n",
              "0            6      148             72             35        0  33.6   \n",
              "1            1       85             66             29        0  26.6   \n",
              "2            8      183             64              0        0  23.3   \n",
              "3            1       89             66             23       94  28.1   \n",
              "4            0      137             40             35      168  43.1   \n",
              "\n",
              "   DiabetesPedigreeFunction  Age  Outcome  \n",
              "0                     0.627   50        1  \n",
              "1                     0.351   31        0  \n",
              "2                     0.672   32        1  \n",
              "3                     0.167   21        0  \n",
              "4                     2.288   33        1  "
            ],
            "text/html": [
              "\n",
              "  <div id=\"df-9548e69d-ad73-40a6-9f4d-dc4356bd2786\">\n",
              "    <div class=\"colab-df-container\">\n",
              "      <div>\n",
              "<style scoped>\n",
              "    .dataframe tbody tr th:only-of-type {\n",
              "        vertical-align: middle;\n",
              "    }\n",
              "\n",
              "    .dataframe tbody tr th {\n",
              "        vertical-align: top;\n",
              "    }\n",
              "\n",
              "    .dataframe thead th {\n",
              "        text-align: right;\n",
              "    }\n",
              "</style>\n",
              "<table border=\"1\" class=\"dataframe\">\n",
              "  <thead>\n",
              "    <tr style=\"text-align: right;\">\n",
              "      <th></th>\n",
              "      <th>Pregnancies</th>\n",
              "      <th>Glucose</th>\n",
              "      <th>BloodPressure</th>\n",
              "      <th>SkinThickness</th>\n",
              "      <th>Insulin</th>\n",
              "      <th>BMI</th>\n",
              "      <th>DiabetesPedigreeFunction</th>\n",
              "      <th>Age</th>\n",
              "      <th>Outcome</th>\n",
              "    </tr>\n",
              "  </thead>\n",
              "  <tbody>\n",
              "    <tr>\n",
              "      <th>0</th>\n",
              "      <td>6</td>\n",
              "      <td>148</td>\n",
              "      <td>72</td>\n",
              "      <td>35</td>\n",
              "      <td>0</td>\n",
              "      <td>33.6</td>\n",
              "      <td>0.627</td>\n",
              "      <td>50</td>\n",
              "      <td>1</td>\n",
              "    </tr>\n",
              "    <tr>\n",
              "      <th>1</th>\n",
              "      <td>1</td>\n",
              "      <td>85</td>\n",
              "      <td>66</td>\n",
              "      <td>29</td>\n",
              "      <td>0</td>\n",
              "      <td>26.6</td>\n",
              "      <td>0.351</td>\n",
              "      <td>31</td>\n",
              "      <td>0</td>\n",
              "    </tr>\n",
              "    <tr>\n",
              "      <th>2</th>\n",
              "      <td>8</td>\n",
              "      <td>183</td>\n",
              "      <td>64</td>\n",
              "      <td>0</td>\n",
              "      <td>0</td>\n",
              "      <td>23.3</td>\n",
              "      <td>0.672</td>\n",
              "      <td>32</td>\n",
              "      <td>1</td>\n",
              "    </tr>\n",
              "    <tr>\n",
              "      <th>3</th>\n",
              "      <td>1</td>\n",
              "      <td>89</td>\n",
              "      <td>66</td>\n",
              "      <td>23</td>\n",
              "      <td>94</td>\n",
              "      <td>28.1</td>\n",
              "      <td>0.167</td>\n",
              "      <td>21</td>\n",
              "      <td>0</td>\n",
              "    </tr>\n",
              "    <tr>\n",
              "      <th>4</th>\n",
              "      <td>0</td>\n",
              "      <td>137</td>\n",
              "      <td>40</td>\n",
              "      <td>35</td>\n",
              "      <td>168</td>\n",
              "      <td>43.1</td>\n",
              "      <td>2.288</td>\n",
              "      <td>33</td>\n",
              "      <td>1</td>\n",
              "    </tr>\n",
              "  </tbody>\n",
              "</table>\n",
              "</div>\n",
              "      <button class=\"colab-df-convert\" onclick=\"convertToInteractive('df-9548e69d-ad73-40a6-9f4d-dc4356bd2786')\"\n",
              "              title=\"Convert this dataframe to an interactive table.\"\n",
              "              style=\"display:none;\">\n",
              "        \n",
              "  <svg xmlns=\"http://www.w3.org/2000/svg\" height=\"24px\"viewBox=\"0 0 24 24\"\n",
              "       width=\"24px\">\n",
              "    <path d=\"M0 0h24v24H0V0z\" fill=\"none\"/>\n",
              "    <path d=\"M18.56 5.44l.94 2.06.94-2.06 2.06-.94-2.06-.94-.94-2.06-.94 2.06-2.06.94zm-11 1L8.5 8.5l.94-2.06 2.06-.94-2.06-.94L8.5 2.5l-.94 2.06-2.06.94zm10 10l.94 2.06.94-2.06 2.06-.94-2.06-.94-.94-2.06-.94 2.06-2.06.94z\"/><path d=\"M17.41 7.96l-1.37-1.37c-.4-.4-.92-.59-1.43-.59-.52 0-1.04.2-1.43.59L10.3 9.45l-7.72 7.72c-.78.78-.78 2.05 0 2.83L4 21.41c.39.39.9.59 1.41.59.51 0 1.02-.2 1.41-.59l7.78-7.78 2.81-2.81c.8-.78.8-2.07 0-2.86zM5.41 20L4 18.59l7.72-7.72 1.47 1.35L5.41 20z\"/>\n",
              "  </svg>\n",
              "      </button>\n",
              "      \n",
              "  <style>\n",
              "    .colab-df-container {\n",
              "      display:flex;\n",
              "      flex-wrap:wrap;\n",
              "      gap: 12px;\n",
              "    }\n",
              "\n",
              "    .colab-df-convert {\n",
              "      background-color: #E8F0FE;\n",
              "      border: none;\n",
              "      border-radius: 50%;\n",
              "      cursor: pointer;\n",
              "      display: none;\n",
              "      fill: #1967D2;\n",
              "      height: 32px;\n",
              "      padding: 0 0 0 0;\n",
              "      width: 32px;\n",
              "    }\n",
              "\n",
              "    .colab-df-convert:hover {\n",
              "      background-color: #E2EBFA;\n",
              "      box-shadow: 0px 1px 2px rgba(60, 64, 67, 0.3), 0px 1px 3px 1px rgba(60, 64, 67, 0.15);\n",
              "      fill: #174EA6;\n",
              "    }\n",
              "\n",
              "    [theme=dark] .colab-df-convert {\n",
              "      background-color: #3B4455;\n",
              "      fill: #D2E3FC;\n",
              "    }\n",
              "\n",
              "    [theme=dark] .colab-df-convert:hover {\n",
              "      background-color: #434B5C;\n",
              "      box-shadow: 0px 1px 3px 1px rgba(0, 0, 0, 0.15);\n",
              "      filter: drop-shadow(0px 1px 2px rgba(0, 0, 0, 0.3));\n",
              "      fill: #FFFFFF;\n",
              "    }\n",
              "  </style>\n",
              "\n",
              "      <script>\n",
              "        const buttonEl =\n",
              "          document.querySelector('#df-9548e69d-ad73-40a6-9f4d-dc4356bd2786 button.colab-df-convert');\n",
              "        buttonEl.style.display =\n",
              "          google.colab.kernel.accessAllowed ? 'block' : 'none';\n",
              "\n",
              "        async function convertToInteractive(key) {\n",
              "          const element = document.querySelector('#df-9548e69d-ad73-40a6-9f4d-dc4356bd2786');\n",
              "          const dataTable =\n",
              "            await google.colab.kernel.invokeFunction('convertToInteractive',\n",
              "                                                     [key], {});\n",
              "          if (!dataTable) return;\n",
              "\n",
              "          const docLinkHtml = 'Like what you see? Visit the ' +\n",
              "            '<a target=\"_blank\" href=https://colab.research.google.com/notebooks/data_table.ipynb>data table notebook</a>'\n",
              "            + ' to learn more about interactive tables.';\n",
              "          element.innerHTML = '';\n",
              "          dataTable['output_type'] = 'display_data';\n",
              "          await google.colab.output.renderOutput(dataTable, element);\n",
              "          const docLink = document.createElement('div');\n",
              "          docLink.innerHTML = docLinkHtml;\n",
              "          element.appendChild(docLink);\n",
              "        }\n",
              "      </script>\n",
              "    </div>\n",
              "  </div>\n",
              "  "
            ]
          },
          "metadata": {},
          "execution_count": 5
        }
      ],
      "source": [
        "# First five rows of the dataset\n",
        "data.head()"
      ]
    },
    {
      "cell_type": "markdown",
      "id": "b2321df0",
      "metadata": {
        "id": "b2321df0"
      },
      "source": [
        "- 'Outcome' is the target variable. It has only 2 classes: 0(Does not have diabetes) and 1(Has diabetes), hence it is a binary classification problem.\n",
        "- There are 8 independent variables: Pregnancies, Glucose, BloodPressure, SkinThickness, Insulin, BMI, DiabetesPedigreeFunction, and Age. All these variables are numeric variables. "
      ]
    },
    {
      "cell_type": "code",
      "execution_count": 6,
      "id": "eaee73a3",
      "metadata": {
        "id": "eaee73a3"
      },
      "outputs": [],
      "source": [
        "# Rename 'BloodPressure' as 'BP' and 'DiabetesPedigreeFunction' as 'DPF' for simplicity\n",
        "data = data.rename(columns = {'BloodPressure':'BP', \n",
        "                              'DiabetesPedigreeFunction':'DPF'})"
      ]
    },
    {
      "cell_type": "code",
      "execution_count": 7,
      "id": "9007f474",
      "metadata": {
        "colab": {
          "base_uri": "https://localhost:8080/"
        },
        "id": "9007f474",
        "outputId": "a688ca47-74b7-43be-fbb5-55ce7514ee10"
      },
      "outputs": [
        {
          "output_type": "execute_result",
          "data": {
            "text/plain": [
              "Index(['Pregnancies', 'Glucose', 'BP', 'SkinThickness', 'Insulin', 'BMI',\n",
              "       'DPF', 'Age', 'Outcome'],\n",
              "      dtype='object')"
            ]
          },
          "metadata": {},
          "execution_count": 7
        }
      ],
      "source": [
        "# Check if renaming is executed successfully\n",
        "data.columns"
      ]
    },
    {
      "cell_type": "markdown",
      "id": "98d8826f",
      "metadata": {
        "id": "98d8826f"
      },
      "source": [
        "### 4. Exploratory Data Analysis"
      ]
    },
    {
      "cell_type": "markdown",
      "id": "3cb21c8c",
      "metadata": {
        "id": "3cb21c8c"
      },
      "source": [
        "###### 4.1 Datatypes"
      ]
    },
    {
      "cell_type": "code",
      "execution_count": 8,
      "id": "bc4701e9",
      "metadata": {
        "colab": {
          "base_uri": "https://localhost:8080/"
        },
        "id": "bc4701e9",
        "outputId": "6a789049-6197-495e-d31e-0b8eb82dd0a7"
      },
      "outputs": [
        {
          "output_type": "stream",
          "name": "stdout",
          "text": [
            "<class 'pandas.core.frame.DataFrame'>\n",
            "RangeIndex: 768 entries, 0 to 767\n",
            "Data columns (total 9 columns):\n",
            " #   Column         Non-Null Count  Dtype  \n",
            "---  ------         --------------  -----  \n",
            " 0   Pregnancies    768 non-null    int64  \n",
            " 1   Glucose        768 non-null    int64  \n",
            " 2   BP             768 non-null    int64  \n",
            " 3   SkinThickness  768 non-null    int64  \n",
            " 4   Insulin        768 non-null    int64  \n",
            " 5   BMI            768 non-null    float64\n",
            " 6   DPF            768 non-null    float64\n",
            " 7   Age            768 non-null    int64  \n",
            " 8   Outcome        768 non-null    int64  \n",
            "dtypes: float64(2), int64(7)\n",
            "memory usage: 54.1 KB\n"
          ]
        }
      ],
      "source": [
        "data.info()"
      ]
    },
    {
      "cell_type": "markdown",
      "id": "642658d4",
      "metadata": {
        "id": "642658d4"
      },
      "source": [
        "- There are total 768 rows in the dataset and it can be concluded that no null-values are present in it.\n",
        "- All the variables are integer type except 'BMI' and 'DPF' which is float type."
      ]
    },
    {
      "cell_type": "markdown",
      "id": "b36de6c2",
      "metadata": {
        "id": "b36de6c2"
      },
      "source": [
        "###### 4.2 Univariate Analysis"
      ]
    },
    {
      "cell_type": "code",
      "execution_count": 9,
      "id": "154ed94b",
      "metadata": {
        "colab": {
          "base_uri": "https://localhost:8080/",
          "height": 732
        },
        "id": "154ed94b",
        "outputId": "f7fc231d-65a6-4cc2-93d6-53c332d8d108"
      },
      "outputs": [
        {
          "output_type": "display_data",
          "data": {
            "text/plain": [
              "<Figure size 1440x720 with 9 Axes>"
            ],
            "image/png": "[encoded data removed]"
          },
          "metadata": {}
        }
      ],
      "source": [
        "fig, axs = plt.subplots(3,3,figsize=(20,10))\n",
        "plt1 = sns.distplot(data['Pregnancies'],ax = axs[0,0],color='green')\n",
        "plt2 = sns.distplot(data['Glucose'],ax = axs[0,1], color='purple')\n",
        "plt3 = sns.distplot(data['BP'],ax = axs[0,2], color='violet')\n",
        "plt1 = sns.distplot(data['SkinThickness'],ax = axs[1,0], color='teal')\n",
        "plt2 = sns.distplot(data['Insulin'],ax = axs[1,1], color='orangered')\n",
        "plt3 = sns.distplot(data['BMI'],ax = axs[1,2], color='darkolivegreen')\n",
        "plt1 = sns.distplot(data['DPF'],ax = axs[2,0], color='sienna')\n",
        "plt2 = sns.distplot(data['Age'],ax = axs[2,1], color='darkslategrey')\n",
        "plt3 = sns.distplot(data['Outcome'],ax = axs[2,2], color='red')\n",
        "plt.tight_layout()"
      ]
    },
    {
      "cell_type": "markdown",
      "id": "30e31dae",
      "metadata": {
        "id": "30e31dae"
      },
      "source": [
        "- Features like Pregnancies, SkinThickness, Insulin, DPF and Age are right-skewed\n",
        "- Outliers are present in the dataset"
      ]
    },
    {
      "cell_type": "code",
      "execution_count": 10,
      "id": "a36a8865",
      "metadata": {
        "colab": {
          "base_uri": "https://localhost:8080/",
          "height": 282
        },
        "id": "a36a8865",
        "outputId": "a3aaf7dd-a45d-4cad-b4f1-42bcbc1aed46"
      },
      "outputs": [
        {
          "output_type": "display_data",
          "data": {
            "text/plain": [
              "<Figure size 432x288 with 1 Axes>"
            ],
            "image/png": "[encoded data removed]"
          },
          "metadata": {}
        }
      ],
      "source": [
        "sns.countplot(data['Outcome'], palette='rainbow')\n",
        "\n",
        "plt.text(x=-0.09, y=data.Outcome.value_counts()[1] + 235,\n",
        "         s=str(round(data.Outcome.value_counts()[0])))\n",
        "\n",
        "plt.text(x=0.92, y=data.Outcome.value_counts()[0] - 229,\n",
        "         s=str(round(data.Outcome.value_counts()[1])))\n",
        "\n",
        "plt.show()"
      ]
    },
    {
      "cell_type": "markdown",
      "id": "34812cff",
      "metadata": {
        "id": "34812cff"
      },
      "source": [
        "- Diabetic = 268\n",
        "- Non-diabetic = 500"
      ]
    },
    {
      "cell_type": "markdown",
      "id": "37e5d01e",
      "metadata": {
        "id": "37e5d01e"
      },
      "source": [
        "###### 4.3 Statistical Summary"
      ]
    },
    {
      "cell_type": "code",
      "execution_count": 12,
      "id": "b81dfd10",
      "metadata": {
        "colab": {
          "base_uri": "https://localhost:8080/",
          "height": 300
        },
        "id": "b81dfd10",
        "outputId": "defe20d1-203c-4b26-c805-906b77ba2463"
      },
      "outputs": [
        {
          "output_type": "execute_result",
          "data": {
            "text/plain": [
              "       Pregnancies     Glucose          BP  SkinThickness     Insulin  \\\n",
              "count   768.000000  768.000000  768.000000     768.000000  768.000000   \n",
              "mean      3.845052  121.681605   72.254807      26.606479  118.660163   \n",
              "std       3.369578   30.436016   12.115932       9.631241   93.080358   \n",
              "min       0.000000   44.000000   24.000000       7.000000   14.000000   \n",
              "25%       1.000000   99.750000   64.000000      20.536458   79.799479   \n",
              "50%       3.000000  117.000000   72.000000      23.000000   79.799479   \n",
              "75%       6.000000  140.250000   80.000000      32.000000  127.250000   \n",
              "max      17.000000  199.000000  122.000000      99.000000  846.000000   \n",
              "\n",
              "              BMI         DPF         Age     Outcome  \n",
              "count  768.000000  768.000000  768.000000  768.000000  \n",
              "mean    32.450805    0.471876   33.240885    0.348958  \n",
              "std      6.875374    0.331329   11.760232    0.476951  \n",
              "min     18.200000    0.078000   21.000000    0.000000  \n",
              "25%     27.500000    0.243750   24.000000    0.000000  \n",
              "50%     32.000000    0.372500   29.000000    0.000000  \n",
              "75%     36.600000    0.626250   41.000000    1.000000  \n",
              "max     67.100000    2.420000   81.000000    1.000000  "
            ],
            "text/html": [
              "\n",
              "  <div id=\"df-34f2f9d0-3097-472c-adb5-c592829dbd7b\">\n",
              "    <div class=\"colab-df-container\">\n",
              "      <div>\n",
              "<style scoped>\n",
              "    .dataframe tbody tr th:only-of-type {\n",
              "        vertical-align: middle;\n",
              "    }\n",
              "\n",
              "    .dataframe tbody tr th {\n",
              "        vertical-align: top;\n",
              "    }\n",
              "\n",
              "    .dataframe thead th {\n",
              "        text-align: right;\n",
              "    }\n",
              "</style>\n",
              "<table border=\"1\" class=\"dataframe\">\n",
              "  <thead>\n",
              "    <tr style=\"text-align: right;\">\n",
              "      <th></th>\n",
              "      <th>Pregnancies</th>\n",
              "      <th>Glucose</th>\n",
              "      <th>BP</th>\n",
              "      <th>SkinThickness</th>\n",
              "      <th>Insulin</th>\n",
              "      <th>BMI</th>\n",
              "      <th>DPF</th>\n",
              "      <th>Age</th>\n",
              "      <th>Outcome</th>\n",
              "    </tr>\n",
              "  </thead>\n",
              "  <tbody>\n",
              "    <tr>\n",
              "      <th>count</th>\n",
              "      <td>768.000000</td>\n",
              "      <td>768.000000</td>\n",
              "      <td>768.000000</td>\n",
              "      <td>768.000000</td>\n",
              "      <td>768.000000</td>\n",
              "      <td>768.000000</td>\n",
              "      <td>768.000000</td>\n",
              "      <td>768.000000</td>\n",
              "      <td>768.000000</td>\n",
              "    </tr>\n",
              "    <tr>\n",
              "      <th>mean</th>\n",
              "      <td>3.845052</td>\n",
              "      <td>121.681605</td>\n",
              "      <td>72.254807</td>\n",
              "      <td>26.606479</td>\n",
              "      <td>118.660163</td>\n",
              "      <td>32.450805</td>\n",
              "      <td>0.471876</td>\n",
              "      <td>33.240885</td>\n",
              "      <td>0.348958</td>\n",
              "    </tr>\n",
              "    <tr>\n",
              "      <th>std</th>\n",
              "      <td>3.369578</td>\n",
              "      <td>30.436016</td>\n",
              "      <td>12.115932</td>\n",
              "      <td>9.631241</td>\n",
              "      <td>93.080358</td>\n",
              "      <td>6.875374</td>\n",
              "      <td>0.331329</td>\n",
              "      <td>11.760232</td>\n",
              "      <td>0.476951</td>\n",
              "    </tr>\n",
              "    <tr>\n",
              "      <th>min</th>\n",
              "      <td>0.000000</td>\n",
              "      <td>44.000000</td>\n",
              "      <td>24.000000</td>\n",
              "      <td>7.000000</td>\n",
              "      <td>14.000000</td>\n",
              "      <td>18.200000</td>\n",
              "      <td>0.078000</td>\n",
              "      <td>21.000000</td>\n",
              "      <td>0.000000</td>\n",
              "    </tr>\n",
              "    <tr>\n",
              "      <th>25%</th>\n",
              "      <td>1.000000</td>\n",
              "      <td>99.750000</td>\n",
              "      <td>64.000000</td>\n",
              "      <td>20.536458</td>\n",
              "      <td>79.799479</td>\n",
              "      <td>27.500000</td>\n",
              "      <td>0.243750</td>\n",
              "      <td>24.000000</td>\n",
              "      <td>0.000000</td>\n",
              "    </tr>\n",
              "    <tr>\n",
              "      <th>50%</th>\n",
              "      <td>3.000000</td>\n",
              "      <td>117.000000</td>\n",
              "      <td>72.000000</td>\n",
              "      <td>23.000000</td>\n",
              "      <td>79.799479</td>\n",
              "      <td>32.000000</td>\n",
              "      <td>0.372500</td>\n",
              "      <td>29.000000</td>\n",
              "      <td>0.000000</td>\n",
              "    </tr>\n",
              "    <tr>\n",
              "      <th>75%</th>\n",
              "      <td>6.000000</td>\n",
              "      <td>140.250000</td>\n",
              "      <td>80.000000</td>\n",
              "      <td>32.000000</td>\n",
              "      <td>127.250000</td>\n",
              "      <td>36.600000</td>\n",
              "      <td>0.626250</td>\n",
              "      <td>41.000000</td>\n",
              "      <td>1.000000</td>\n",
              "    </tr>\n",
              "    <tr>\n",
              "      <th>max</th>\n",
              "      <td>17.000000</td>\n",
              "      <td>199.000000</td>\n",
              "      <td>122.000000</td>\n",
              "      <td>99.000000</td>\n",
              "      <td>846.000000</td>\n",
              "      <td>67.100000</td>\n",
              "      <td>2.420000</td>\n",
              "      <td>81.000000</td>\n",
              "      <td>1.000000</td>\n",
              "    </tr>\n",
              "  </tbody>\n",
              "</table>\n",
              "</div>\n",
              "      <button class=\"colab-df-convert\" onclick=\"convertToInteractive('df-34f2f9d0-3097-472c-adb5-c592829dbd7b')\"\n",
              "              title=\"Convert this dataframe to an interactive table.\"\n",
              "              style=\"display:none;\">\n",
              "        \n",
              "  <svg xmlns=\"http://www.w3.org/2000/svg\" height=\"24px\"viewBox=\"0 0 24 24\"\n",
              "       width=\"24px\">\n",
              "    <path d=\"M0 0h24v24H0V0z\" fill=\"none\"/>\n",
              "    <path d=\"M18.56 5.44l.94 2.06.94-2.06 2.06-.94-2.06-.94-.94-2.06-.94 2.06-2.06.94zm-11 1L8.5 8.5l.94-2.06 2.06-.94-2.06-.94L8.5 2.5l-.94 2.06-2.06.94zm10 10l.94 2.06.94-2.06 2.06-.94-2.06-.94-.94-2.06-.94 2.06-2.06.94z\"/><path d=\"M17.41 7.96l-1.37-1.37c-.4-.4-.92-.59-1.43-.59-.52 0-1.04.2-1.43.59L10.3 9.45l-7.72 7.72c-.78.78-.78 2.05 0 2.83L4 21.41c.39.39.9.59 1.41.59.51 0 1.02-.2 1.41-.59l7.78-7.78 2.81-2.81c.8-.78.8-2.07 0-2.86zM5.41 20L4 18.59l7.72-7.72 1.47 1.35L5.41 20z\"/>\n",
              "  </svg>\n",
              "      </button>\n",
              "      \n",
              "  <style>\n",
              "    .colab-df-container {\n",
              "      display:flex;\n",
              "      flex-wrap:wrap;\n",
              "      gap: 12px;\n",
              "    }\n",
              "\n",
              "    .colab-df-convert {\n",
              "      background-color: #E8F0FE;\n",
              "      border: none;\n",
              "      border-radius: 50%;\n",
              "      cursor: pointer;\n",
              "      display: none;\n",
              "      fill: #1967D2;\n",
              "      height: 32px;\n",
              "      padding: 0 0 0 0;\n",
              "      width: 32px;\n",
              "    }\n",
              "\n",
              "    .colab-df-convert:hover {\n",
              "      background-color: #E2EBFA;\n",
              "      box-shadow: 0px 1px 2px rgba(60, 64, 67, 0.3), 0px 1px 3px 1px rgba(60, 64, 67, 0.15);\n",
              "      fill: #174EA6;\n",
              "    }\n",
              "\n",
              "    [theme=dark] .colab-df-convert {\n",
              "      background-color: #3B4455;\n",
              "      fill: #D2E3FC;\n",
              "    }\n",
              "\n",
              "    [theme=dark] .colab-df-convert:hover {\n",
              "      background-color: #434B5C;\n",
              "      box-shadow: 0px 1px 3px 1px rgba(0, 0, 0, 0.15);\n",
              "      filter: drop-shadow(0px 1px 2px rgba(0, 0, 0, 0.3));\n",
              "      fill: #FFFFFF;\n",
              "    }\n",
              "  </style>\n",
              "\n",
              "      <script>\n",
              "        const buttonEl =\n",
              "          document.querySelector('#df-34f2f9d0-3097-472c-adb5-c592829dbd7b button.colab-df-convert');\n",
              "        buttonEl.style.display =\n",
              "          google.colab.kernel.accessAllowed ? 'block' : 'none';\n",
              "\n",
              "        async function convertToInteractive(key) {\n",
              "          const element = document.querySelector('#df-34f2f9d0-3097-472c-adb5-c592829dbd7b');\n",
              "          const dataTable =\n",
              "            await google.colab.kernel.invokeFunction('convertToInteractive',\n",
              "                                                     [key], {});\n",
              "          if (!dataTable) return;\n",
              "\n",
              "          const docLinkHtml = 'Like what you see? Visit the ' +\n",
              "            '<a target=\"_blank\" href=https://colab.research.google.com/notebooks/data_table.ipynb>data table notebook</a>'\n",
              "            + ' to learn more about interactive tables.';\n",
              "          element.innerHTML = '';\n",
              "          dataTable['output_type'] = 'display_data';\n",
              "          await google.colab.output.renderOutput(dataTable, element);\n",
              "          const docLink = document.createElement('div');\n",
              "          docLink.innerHTML = docLinkHtml;\n",
              "          element.appendChild(docLink);\n",
              "        }\n",
              "      </script>\n",
              "    </div>\n",
              "  </div>\n",
              "  "
            ]
          },
          "metadata": {},
          "execution_count": 12
        }
      ],
      "source": [
        "data.describe()"
      ]
    },
    {
      "cell_type": "markdown",
      "id": "63deb0e3",
      "metadata": {
        "id": "63deb0e3"
      },
      "source": [
        "###### Observations:\n",
        "- Minimum value in the columns Glucose, BloodPressure, SkinThickness, Insulin and BMI is 0 which does not make sense. Hence, we need to replace those zeroes with more appropriate values.\n",
        "- Maximum value shows outliers are present in Pregnancies and Insulin, which will be taken care of while treating the Outliers."
      ]
    },
    {
      "cell_type": "code",
      "execution_count": 11,
      "id": "6fee2541",
      "metadata": {
        "id": "6fee2541"
      },
      "outputs": [],
      "source": [
        "# Replacing 0's by mean of the data\n",
        "data['Glucose'] = np.where(data['Glucose']==0, np.mean(data['Glucose']),\n",
        "                           data['Glucose'])\n",
        "data['BP'] = np.where(data['BP']==0, np.mean(data['BP']), data['BP'])\n",
        "data['SkinThickness'] = np.where(data['SkinThickness']==0,\n",
        "                                 np.mean(data['SkinThickness']),\n",
        "                                 data['SkinThickness'])\n",
        "data['BMI'] = np.where(data['BMI']==0, np.mean(data['BMI']), data['BMI'])\n",
        "data['Insulin'] = np.where(data['Insulin']==0, np.mean(data['Insulin']),\n",
        "                           data['Insulin'])"
      ]
    },
    {
      "cell_type": "code",
      "execution_count": 13,
      "id": "5f048306",
      "metadata": {
        "colab": {
          "base_uri": "https://localhost:8080/",
          "height": 300
        },
        "id": "5f048306",
        "outputId": "257b1c51-9249-4ed6-cea9-dce9f63e13cb"
      },
      "outputs": [
        {
          "output_type": "execute_result",
          "data": {
            "text/plain": [
              "       Pregnancies     Glucose          BP  SkinThickness     Insulin  \\\n",
              "count   768.000000  768.000000  768.000000     768.000000  768.000000   \n",
              "mean      3.845052  121.681605   72.254807      26.606479  118.660163   \n",
              "std       3.369578   30.436016   12.115932       9.631241   93.080358   \n",
              "min       0.000000   44.000000   24.000000       7.000000   14.000000   \n",
              "25%       1.000000   99.750000   64.000000      20.536458   79.799479   \n",
              "50%       3.000000  117.000000   72.000000      23.000000   79.799479   \n",
              "75%       6.000000  140.250000   80.000000      32.000000  127.250000   \n",
              "max      17.000000  199.000000  122.000000      99.000000  846.000000   \n",
              "\n",
              "              BMI         DPF         Age     Outcome  \n",
              "count  768.000000  768.000000  768.000000  768.000000  \n",
              "mean    32.450805    0.471876   33.240885    0.348958  \n",
              "std      6.875374    0.331329   11.760232    0.476951  \n",
              "min     18.200000    0.078000   21.000000    0.000000  \n",
              "25%     27.500000    0.243750   24.000000    0.000000  \n",
              "50%     32.000000    0.372500   29.000000    0.000000  \n",
              "75%     36.600000    0.626250   41.000000    1.000000  \n",
              "max     67.100000    2.420000   81.000000    1.000000  "
            ],
            "text/html": [
              "\n",
              "  <div id=\"df-28085e5a-5e78-44b3-9ffb-8ef4ff3a6409\">\n",
              "    <div class=\"colab-df-container\">\n",
              "      <div>\n",
              "<style scoped>\n",
              "    .dataframe tbody tr th:only-of-type {\n",
              "        vertical-align: middle;\n",
              "    }\n",
              "\n",
              "    .dataframe tbody tr th {\n",
              "        vertical-align: top;\n",
              "    }\n",
              "\n",
              "    .dataframe thead th {\n",
              "        text-align: right;\n",
              "    }\n",
              "</style>\n",
              "<table border=\"1\" class=\"dataframe\">\n",
              "  <thead>\n",
              "    <tr style=\"text-align: right;\">\n",
              "      <th></th>\n",
              "      <th>Pregnancies</th>\n",
              "      <th>Glucose</th>\n",
              "      <th>BP</th>\n",
              "      <th>SkinThickness</th>\n",
              "      <th>Insulin</th>\n",
              "      <th>BMI</th>\n",
              "      <th>DPF</th>\n",
              "      <th>Age</th>\n",
              "      <th>Outcome</th>\n",
              "    </tr>\n",
              "  </thead>\n",
              "  <tbody>\n",
              "    <tr>\n",
              "      <th>count</th>\n",
              "      <td>768.000000</td>\n",
              "      <td>768.000000</td>\n",
              "      <td>768.000000</td>\n",
              "      <td>768.000000</td>\n",
              "      <td>768.000000</td>\n",
              "      <td>768.000000</td>\n",
              "      <td>768.000000</td>\n",
              "      <td>768.000000</td>\n",
              "      <td>768.000000</td>\n",
              "    </tr>\n",
              "    <tr>\n",
              "      <th>mean</th>\n",
              "      <td>3.845052</td>\n",
              "      <td>121.681605</td>\n",
              "      <td>72.254807</td>\n",
              "      <td>26.606479</td>\n",
              "      <td>118.660163</td>\n",
              "      <td>32.450805</td>\n",
              "      <td>0.471876</td>\n",
              "      <td>33.240885</td>\n",
              "      <td>0.348958</td>\n",
              "    </tr>\n",
              "    <tr>\n",
              "      <th>std</th>\n",
              "      <td>3.369578</td>\n",
              "      <td>30.436016</td>\n",
              "      <td>12.115932</td>\n",
              "      <td>9.631241</td>\n",
              "      <td>93.080358</td>\n",
              "      <td>6.875374</td>\n",
              "      <td>0.331329</td>\n",
              "      <td>11.760232</td>\n",
              "      <td>0.476951</td>\n",
              "    </tr>\n",
              "    <tr>\n",
              "      <th>min</th>\n",
              "      <td>0.000000</td>\n",
              "      <td>44.000000</td>\n",
              "      <td>24.000000</td>\n",
              "      <td>7.000000</td>\n",
              "      <td>14.000000</td>\n",
              "      <td>18.200000</td>\n",
              "      <td>0.078000</td>\n",
              "      <td>21.000000</td>\n",
              "      <td>0.000000</td>\n",
              "    </tr>\n",
              "    <tr>\n",
              "      <th>25%</th>\n",
              "      <td>1.000000</td>\n",
              "      <td>99.750000</td>\n",
              "      <td>64.000000</td>\n",
              "      <td>20.536458</td>\n",
              "      <td>79.799479</td>\n",
              "      <td>27.500000</td>\n",
              "      <td>0.243750</td>\n",
              "      <td>24.000000</td>\n",
              "      <td>0.000000</td>\n",
              "    </tr>\n",
              "    <tr>\n",
              "      <th>50%</th>\n",
              "      <td>3.000000</td>\n",
              "      <td>117.000000</td>\n",
              "      <td>72.000000</td>\n",
              "      <td>23.000000</td>\n",
              "      <td>79.799479</td>\n",
              "      <td>32.000000</td>\n",
              "      <td>0.372500</td>\n",
              "      <td>29.000000</td>\n",
              "      <td>0.000000</td>\n",
              "    </tr>\n",
              "    <tr>\n",
              "      <th>75%</th>\n",
              "      <td>6.000000</td>\n",
              "      <td>140.250000</td>\n",
              "      <td>80.000000</td>\n",
              "      <td>32.000000</td>\n",
              "      <td>127.250000</td>\n",
              "      <td>36.600000</td>\n",
              "      <td>0.626250</td>\n",
              "      <td>41.000000</td>\n",
              "      <td>1.000000</td>\n",
              "    </tr>\n",
              "    <tr>\n",
              "      <th>max</th>\n",
              "      <td>17.000000</td>\n",
              "      <td>199.000000</td>\n",
              "      <td>122.000000</td>\n",
              "      <td>99.000000</td>\n",
              "      <td>846.000000</td>\n",
              "      <td>67.100000</td>\n",
              "      <td>2.420000</td>\n",
              "      <td>81.000000</td>\n",
              "      <td>1.000000</td>\n",
              "    </tr>\n",
              "  </tbody>\n",
              "</table>\n",
              "</div>\n",
              "      <button class=\"colab-df-convert\" onclick=\"convertToInteractive('df-28085e5a-5e78-44b3-9ffb-8ef4ff3a6409')\"\n",
              "              title=\"Convert this dataframe to an interactive table.\"\n",
              "              style=\"display:none;\">\n",
              "        \n",
              "  <svg xmlns=\"http://www.w3.org/2000/svg\" height=\"24px\"viewBox=\"0 0 24 24\"\n",
              "       width=\"24px\">\n",
              "    <path d=\"M0 0h24v24H0V0z\" fill=\"none\"/>\n",
              "    <path d=\"M18.56 5.44l.94 2.06.94-2.06 2.06-.94-2.06-.94-.94-2.06-.94 2.06-2.06.94zm-11 1L8.5 8.5l.94-2.06 2.06-.94-2.06-.94L8.5 2.5l-.94 2.06-2.06.94zm10 10l.94 2.06.94-2.06 2.06-.94-2.06-.94-.94-2.06-.94 2.06-2.06.94z\"/><path d=\"M17.41 7.96l-1.37-1.37c-.4-.4-.92-.59-1.43-.59-.52 0-1.04.2-1.43.59L10.3 9.45l-7.72 7.72c-.78.78-.78 2.05 0 2.83L4 21.41c.39.39.9.59 1.41.59.51 0 1.02-.2 1.41-.59l7.78-7.78 2.81-2.81c.8-.78.8-2.07 0-2.86zM5.41 20L4 18.59l7.72-7.72 1.47 1.35L5.41 20z\"/>\n",
              "  </svg>\n",
              "      </button>\n",
              "      \n",
              "  <style>\n",
              "    .colab-df-container {\n",
              "      display:flex;\n",
              "      flex-wrap:wrap;\n",
              "      gap: 12px;\n",
              "    }\n",
              "\n",
              "    .colab-df-convert {\n",
              "      background-color: #E8F0FE;\n",
              "      border: none;\n",
              "      border-radius: 50%;\n",
              "      cursor: pointer;\n",
              "      display: none;\n",
              "      fill: #1967D2;\n",
              "      height: 32px;\n",
              "      padding: 0 0 0 0;\n",
              "      width: 32px;\n",
              "    }\n",
              "\n",
              "    .colab-df-convert:hover {\n",
              "      background-color: #E2EBFA;\n",
              "      box-shadow: 0px 1px 2px rgba(60, 64, 67, 0.3), 0px 1px 3px 1px rgba(60, 64, 67, 0.15);\n",
              "      fill: #174EA6;\n",
              "    }\n",
              "\n",
              "    [theme=dark] .colab-df-convert {\n",
              "      background-color: #3B4455;\n",
              "      fill: #D2E3FC;\n",
              "    }\n",
              "\n",
              "    [theme=dark] .colab-df-convert:hover {\n",
              "      background-color: #434B5C;\n",
              "      box-shadow: 0px 1px 3px 1px rgba(0, 0, 0, 0.15);\n",
              "      filter: drop-shadow(0px 1px 2px rgba(0, 0, 0, 0.3));\n",
              "      fill: #FFFFFF;\n",
              "    }\n",
              "  </style>\n",
              "\n",
              "      <script>\n",
              "        const buttonEl =\n",
              "          document.querySelector('#df-28085e5a-5e78-44b3-9ffb-8ef4ff3a6409 button.colab-df-convert');\n",
              "        buttonEl.style.display =\n",
              "          google.colab.kernel.accessAllowed ? 'block' : 'none';\n",
              "\n",
              "        async function convertToInteractive(key) {\n",
              "          const element = document.querySelector('#df-28085e5a-5e78-44b3-9ffb-8ef4ff3a6409');\n",
              "          const dataTable =\n",
              "            await google.colab.kernel.invokeFunction('convertToInteractive',\n",
              "                                                     [key], {});\n",
              "          if (!dataTable) return;\n",
              "\n",
              "          const docLinkHtml = 'Like what you see? Visit the ' +\n",
              "            '<a target=\"_blank\" href=https://colab.research.google.com/notebooks/data_table.ipynb>data table notebook</a>'\n",
              "            + ' to learn more about interactive tables.';\n",
              "          element.innerHTML = '';\n",
              "          dataTable['output_type'] = 'display_data';\n",
              "          await google.colab.output.renderOutput(dataTable, element);\n",
              "          const docLink = document.createElement('div');\n",
              "          docLink.innerHTML = docLinkHtml;\n",
              "          element.appendChild(docLink);\n",
              "        }\n",
              "      </script>\n",
              "    </div>\n",
              "  </div>\n",
              "  "
            ]
          },
          "metadata": {},
          "execution_count": 13
        }
      ],
      "source": [
        "data.describe()"
      ]
    },
    {
      "cell_type": "markdown",
      "id": "dfbd3208",
      "metadata": {
        "id": "dfbd3208"
      },
      "source": [
        "- Minimum Value has been changed to values more appropriate."
      ]
    },
    {
      "cell_type": "markdown",
      "id": "23f3316a",
      "metadata": {
        "id": "23f3316a"
      },
      "source": [
        "###### 4.4 Missing values detection and treatment"
      ]
    },
    {
      "cell_type": "code",
      "execution_count": 14,
      "id": "35a899bb",
      "metadata": {
        "colab": {
          "base_uri": "https://localhost:8080/"
        },
        "id": "35a899bb",
        "outputId": "f7588420-7383-45ed-e933-a215a0609d63"
      },
      "outputs": [
        {
          "output_type": "execute_result",
          "data": {
            "text/plain": [
              "Pregnancies      0\n",
              "Glucose          0\n",
              "BP               0\n",
              "SkinThickness    0\n",
              "Insulin          0\n",
              "BMI              0\n",
              "DPF              0\n",
              "Age              0\n",
              "Outcome          0\n",
              "dtype: int64"
            ]
          },
          "metadata": {},
          "execution_count": 14
        }
      ],
      "source": [
        "# Missing values detection\n",
        "data.isnull().sum()"
      ]
    },
    {
      "cell_type": "markdown",
      "id": "8e0cc68c",
      "metadata": {
        "id": "8e0cc68c"
      },
      "source": [
        "- No missing values are present in the dataset"
      ]
    },
    {
      "cell_type": "markdown",
      "id": "4b89eb18",
      "metadata": {
        "id": "4b89eb18"
      },
      "source": [
        "###### 4.5 Duplicated value detection and treatment"
      ]
    },
    {
      "cell_type": "code",
      "execution_count": 15,
      "id": "b974b13d",
      "metadata": {
        "colab": {
          "base_uri": "https://localhost:8080/"
        },
        "id": "b974b13d",
        "outputId": "fcb3c7bf-e7f6-466d-cc1f-654c98aaee0b"
      },
      "outputs": [
        {
          "output_type": "execute_result",
          "data": {
            "text/plain": [
              "0"
            ]
          },
          "metadata": {},
          "execution_count": 15
        }
      ],
      "source": [
        "# Duplicated value\n",
        "data.duplicated().sum()"
      ]
    },
    {
      "cell_type": "markdown",
      "id": "acf5338d",
      "metadata": {
        "id": "acf5338d"
      },
      "source": [
        "- No duplicate values present in the dataset"
      ]
    },
    {
      "cell_type": "markdown",
      "id": "65fdb67a",
      "metadata": {
        "id": "65fdb67a"
      },
      "source": [
        "###### 4.6 Outlier detection and treatment using Z_Score method"
      ]
    },
    {
      "cell_type": "markdown",
      "id": "20be0486",
      "metadata": {
        "id": "20be0486"
      },
      "source": [
        "###### Finding the boundary values"
      ]
    },
    {
      "cell_type": "code",
      "execution_count": 16,
      "id": "19b7fde0",
      "metadata": {
        "scrolled": true,
        "colab": {
          "base_uri": "https://localhost:8080/"
        },
        "id": "19b7fde0",
        "outputId": "3f64a6a1-4b0f-44f3-c8a0-662daa90c0f3"
      },
      "outputs": [
        {
          "output_type": "stream",
          "name": "stdout",
          "text": [
            "Pregnancies\n",
            "******************************\n",
            "Max_BV: [13.953786271429921]\n",
            "Min_BV: [-6.263682104763253]\n",
            "\n",
            "Glucose\n",
            "******************************\n",
            "Max_BV: [212.98965195285027]\n",
            "Min_BV: [30.37355808946745]\n",
            "\n",
            "BP\n",
            "******************************\n",
            "Max_BV: [108.60260131331626]\n",
            "Min_BV: [35.90701172379312]\n",
            "\n",
            "SkinThickness\n",
            "******************************\n",
            "Max_BV: [55.50020135326963]\n",
            "Min_BV: [-2.287242911429395]\n",
            "\n",
            "Insulin\n",
            "******************************\n",
            "Max_BV: [397.90123598664564]\n",
            "Min_BV: [-160.5809099232768]\n",
            "\n",
            "BMI\n",
            "******************************\n",
            "Max_BV: [53.07692567769133]\n",
            "Min_BV: [11.824684633181015]\n",
            "\n",
            "DPF\n",
            "******************************\n",
            "Max_BV: [1.4658620871216572]\n",
            "Min_BV: [-0.5221094829549917]\n",
            "\n",
            "Age\n",
            "******************************\n",
            "Max_BV: [68.5215800387027]\n",
            "Min_BV: [-2.039809205369373]\n",
            "\n",
            "Outcome\n",
            "******************************\n",
            "Max_BV: [1.7798124650617246]\n",
            "Min_BV: [-1.0818957983950581]\n",
            "\n"
          ]
        }
      ],
      "source": [
        "Attributes = ['Pregnancies', 'Glucose', 'BP', 'SkinThickness', 'Insulin', \n",
        "              'BMI', 'DPF', 'Age', 'Outcome']\n",
        "\n",
        "for i in Attributes:\n",
        "    Max_Boundary_Value = []\n",
        "    Min_Boundary_Value = []\n",
        "    \n",
        "    h = data[i].mean() + 3*data[i].std()\n",
        "    l = data[i].mean() - 3*data[i].std()\n",
        "    \n",
        "    Max_Boundary_Value.append(h)\n",
        "    Min_Boundary_Value.append(l)\n",
        "    \n",
        "    print(i)\n",
        "    print('******************************')\n",
        "    print('Max_BV:', Max_Boundary_Value)\n",
        "    print('Min_BV:', Min_Boundary_Value)\n",
        "    print()"
      ]
    },
    {
      "cell_type": "markdown",
      "id": "54e7c135",
      "metadata": {
        "id": "54e7c135"
      },
      "source": [
        "###### Outlier Detection"
      ]
    },
    {
      "cell_type": "code",
      "execution_count": 17,
      "id": "af402c46",
      "metadata": {
        "colab": {
          "base_uri": "https://localhost:8080/"
        },
        "id": "af402c46",
        "outputId": "915602b0-d9ef-4493-cda3-ab7998e25657"
      },
      "outputs": [
        {
          "output_type": "execute_result",
          "data": {
            "text/plain": [
              "[88, 159, 298, 455]"
            ]
          },
          "metadata": {},
          "execution_count": 17
        }
      ],
      "source": [
        "# Outliers in the attribute 'Pregnancies'\n",
        "data[(data['Pregnancies'] > 13.88) |\n",
        "     (data['Pregnancies'] < -6.21)].index.tolist()"
      ]
    },
    {
      "cell_type": "code",
      "execution_count": 18,
      "id": "00dcd562",
      "metadata": {
        "colab": {
          "base_uri": "https://localhost:8080/"
        },
        "id": "00dcd562",
        "outputId": "f4c19812-25c2-476c-befb-fcf85eaa5f5c"
      },
      "outputs": [
        {
          "output_type": "execute_result",
          "data": {
            "text/plain": [
              "[]"
            ]
          },
          "metadata": {},
          "execution_count": 18
        }
      ],
      "source": [
        "# Outliers in the attribute 'Glucose'\n",
        "data[(data['Glucose'] > 212.96) | (data['Glucose'] < 30.23)].index.tolist()"
      ]
    },
    {
      "cell_type": "code",
      "execution_count": 19,
      "id": "e25d6d25",
      "metadata": {
        "colab": {
          "base_uri": "https://localhost:8080/"
        },
        "id": "e25d6d25",
        "outputId": "d34795b8-ba4c-480f-9a57-d34d765d5b24"
      },
      "outputs": [
        {
          "output_type": "execute_result",
          "data": {
            "text/plain": [
              "[18, 43, 106, 125, 177, 549, 597, 691]"
            ]
          },
          "metadata": {},
          "execution_count": 19
        }
      ],
      "source": [
        "# Outliers in the attribute 'BP'\n",
        "data[(data['BP'] > 108.01) | (data['BP'] < 36.21)].index.tolist()"
      ]
    },
    {
      "cell_type": "code",
      "execution_count": 20,
      "id": "1bcce933",
      "metadata": {
        "colab": {
          "base_uri": "https://localhost:8080/"
        },
        "id": "1bcce933",
        "outputId": "081cffca-1473-40cc-e893-672cf161d582"
      },
      "outputs": [
        {
          "output_type": "execute_result",
          "data": {
            "text/plain": [
              "[57, 120, 445, 579]"
            ]
          },
          "metadata": {},
          "execution_count": 20
        }
      ],
      "source": [
        "# Outliers in the attribute 'SkinThickness'\n",
        "data[(data['SkinThickness'] > 55.96) | (data['SkinThickness'] < -3.66)].index.tolist()"
      ]
    },
    {
      "cell_type": "code",
      "execution_count": 21,
      "id": "c8fd97af",
      "metadata": {
        "colab": {
          "base_uri": "https://localhost:8080/"
        },
        "id": "c8fd97af",
        "outputId": "fb47a093-49ec-4b56-ce25-88932781cc90"
      },
      "outputs": [
        {
          "output_type": "execute_result",
          "data": {
            "text/plain": [
              "[8,\n",
              " 13,\n",
              " 54,\n",
              " 111,\n",
              " 153,\n",
              " 186,\n",
              " 220,\n",
              " 228,\n",
              " 231,\n",
              " 247,\n",
              " 248,\n",
              " 258,\n",
              " 286,\n",
              " 296,\n",
              " 370,\n",
              " 392,\n",
              " 409,\n",
              " 415,\n",
              " 486,\n",
              " 574,\n",
              " 584,\n",
              " 645,\n",
              " 655,\n",
              " 695,\n",
              " 707,\n",
              " 710,\n",
              " 715,\n",
              " 753]"
            ]
          },
          "metadata": {},
          "execution_count": 21
        }
      ],
      "source": [
        "# Outliers in the attribute 'Insulin'\n",
        "data[(data['Insulin'] > 328.54) | (data['Insulin'] < -107.08)].index.tolist()"
      ]
    },
    {
      "cell_type": "code",
      "execution_count": 22,
      "id": "77943f9b",
      "metadata": {
        "colab": {
          "base_uri": "https://localhost:8080/"
        },
        "id": "77943f9b",
        "outputId": "c368b744-eba1-4e74-93c5-d1105ff98540"
      },
      "outputs": [
        {
          "output_type": "execute_result",
          "data": {
            "text/plain": [
              "[120, 125, 177, 303, 445, 673]"
            ]
          },
          "metadata": {},
          "execution_count": 22
        }
      ],
      "source": [
        "# Outliers in the attribute 'BMI'\n",
        "data[(data['BMI'] > 52.65) | (data['BMI'] < 12.05)].index.tolist()"
      ]
    },
    {
      "cell_type": "code",
      "execution_count": 23,
      "id": "6265d0be",
      "metadata": {
        "colab": {
          "base_uri": "https://localhost:8080/"
        },
        "id": "6265d0be",
        "outputId": "1cc0e5bd-1aef-475c-c79d-d5e21c0a266e"
      },
      "outputs": [
        {
          "output_type": "execute_result",
          "data": {
            "text/plain": [
              "[4, 12, 39, 45, 58, 147, 228, 308, 330, 370, 371, 395, 445, 593, 621, 622, 661]"
            ]
          },
          "metadata": {},
          "execution_count": 23
        }
      ],
      "source": [
        "# Outliers in the attribute 'DPF'\n",
        "data[(data['DPF'] > 1.37) | (data['DPF'] < -0.44)].index.tolist()"
      ]
    },
    {
      "cell_type": "code",
      "execution_count": 24,
      "id": "51d2497a",
      "metadata": {
        "colab": {
          "base_uri": "https://localhost:8080/"
        },
        "id": "51d2497a",
        "outputId": "055efed5-afd8-4e25-c5a5-c2b766813b69"
      },
      "outputs": [
        {
          "output_type": "execute_result",
          "data": {
            "text/plain": [
              "[123, 453, 459, 666, 684]"
            ]
          },
          "metadata": {},
          "execution_count": 24
        }
      ],
      "source": [
        "# Outliers in the attribute 'Age'\n",
        "data[(data['Age'] > 68.25) | (data['Age'] < -1.81)].index.tolist()"
      ]
    },
    {
      "cell_type": "code",
      "execution_count": 25,
      "id": "325a4ffc",
      "metadata": {
        "colab": {
          "base_uri": "https://localhost:8080/"
        },
        "id": "325a4ffc",
        "outputId": "1c87c1be-3f72-4d3c-91cd-77083661006b"
      },
      "outputs": [
        {
          "output_type": "execute_result",
          "data": {
            "text/plain": [
              "[]"
            ]
          },
          "metadata": {},
          "execution_count": 25
        }
      ],
      "source": [
        "# Outliers in the attribute 'Outcome'\n",
        "data[(data['Outcome'] > 1.77) | (data['Outcome'] < -1.08)].index.tolist()"
      ]
    },
    {
      "cell_type": "markdown",
      "id": "e341955c",
      "metadata": {
        "id": "e341955c"
      },
      "source": [
        "- Number of Outliers present in each attribute:\n",
        "1. Pregnancies: 4\n",
        "2. Glucose: 0\n",
        "3. BP: 8\n",
        "4. SkinThickness: 4\n",
        "5. Insulin: 28\n",
        "6. BMI: 6\n",
        "7. DPF: 17\n",
        "8. Age: 5\n",
        "9. Outcome: 0"
      ]
    },
    {
      "cell_type": "markdown",
      "id": "4b139e2f",
      "metadata": {
        "id": "4b139e2f"
      },
      "source": [
        "###### Trimming the Outliers"
      ]
    },
    {
      "cell_type": "code",
      "execution_count": 26,
      "id": "2b228dd7",
      "metadata": {
        "id": "2b228dd7"
      },
      "outputs": [],
      "source": [
        "new_data = data[(data['Pregnancies'] < 13.88) & (data['Pregnancies'] > -6.21)]"
      ]
    },
    {
      "cell_type": "code",
      "execution_count": 27,
      "id": "664b4fe0",
      "metadata": {
        "id": "664b4fe0"
      },
      "outputs": [],
      "source": [
        "new_data = new_data[(new_data['BP'] < 108.01) & (new_data['BP'] > 36.21)]"
      ]
    },
    {
      "cell_type": "code",
      "execution_count": 28,
      "id": "cf9e1349",
      "metadata": {
        "id": "cf9e1349"
      },
      "outputs": [],
      "source": [
        "new_data = new_data[(new_data['SkinThickness'] < 55.96) & (new_data['SkinThickness'] > -3.66)]"
      ]
    },
    {
      "cell_type": "code",
      "execution_count": 29,
      "id": "b7e8851e",
      "metadata": {
        "id": "b7e8851e"
      },
      "outputs": [],
      "source": [
        "new_data = new_data[(new_data['Insulin'] < 328.54) & (new_data['Insulin'] > -107.08)]"
      ]
    },
    {
      "cell_type": "code",
      "execution_count": 30,
      "id": "34a7e479",
      "metadata": {
        "id": "34a7e479"
      },
      "outputs": [],
      "source": [
        "new_data = new_data[(new_data['BMI'] < 52.65) & (new_data['BMI'] > 12.05)]"
      ]
    },
    {
      "cell_type": "code",
      "execution_count": 31,
      "id": "d64cdda3",
      "metadata": {
        "id": "d64cdda3"
      },
      "outputs": [],
      "source": [
        "new_data = new_data[(new_data['DPF'] < 1.37) & (new_data['DPF'] > -0.44)]"
      ]
    },
    {
      "cell_type": "code",
      "execution_count": 32,
      "id": "6bf4e787",
      "metadata": {
        "id": "6bf4e787"
      },
      "outputs": [],
      "source": [
        "new_data = new_data[(new_data['Age'] < 68.25) & (new_data['Age'] > -1.81)]"
      ]
    },
    {
      "cell_type": "code",
      "execution_count": 33,
      "id": "1b49c794",
      "metadata": {
        "colab": {
          "base_uri": "https://localhost:8080/",
          "height": 300
        },
        "id": "1b49c794",
        "outputId": "bbc7c24d-c650-4cd1-e2b0-fb2c4cc6bee6"
      },
      "outputs": [
        {
          "output_type": "execute_result",
          "data": {
            "text/plain": [
              "       Pregnancies     Glucose          BP  SkinThickness     Insulin  \\\n",
              "count   703.000000  703.000000  703.000000     703.000000  703.000000   \n",
              "mean      3.834993  119.441640   72.162996      26.048290  104.588071   \n",
              "std       3.284874   29.383161   11.266721       8.914018   56.109178   \n",
              "min       0.000000   44.000000   38.000000       7.000000   15.000000   \n",
              "25%       1.000000   99.000000   64.000000      20.536458   79.799479   \n",
              "50%       3.000000  115.000000   72.000000      22.000000   79.799479   \n",
              "75%       6.000000  137.000000   80.000000      32.000000  115.500000   \n",
              "max      13.000000  198.000000  108.000000      54.000000  328.000000   \n",
              "\n",
              "              BMI         DPF         Age     Outcome  \n",
              "count  703.000000  703.000000  703.000000  703.000000  \n",
              "mean    32.065908    0.440802   32.896159    0.334282  \n",
              "std      6.442479    0.269797   11.305359    0.472075  \n",
              "min     18.200000    0.078000   21.000000    0.000000  \n",
              "25%     27.400000    0.240500   24.000000    0.000000  \n",
              "50%     32.000000    0.361000   29.000000    0.000000  \n",
              "75%     36.050000    0.591000   40.000000    1.000000  \n",
              "max     52.300000    1.353000   68.000000    1.000000  "
            ],
            "text/html": [
              "\n",
              "  <div id=\"df-58ea7bef-6c78-403c-9858-93c4a0329a50\">\n",
              "    <div class=\"colab-df-container\">\n",
              "      <div>\n",
              "<style scoped>\n",
              "    .dataframe tbody tr th:only-of-type {\n",
              "        vertical-align: middle;\n",
              "    }\n",
              "\n",
              "    .dataframe tbody tr th {\n",
              "        vertical-align: top;\n",
              "    }\n",
              "\n",
              "    .dataframe thead th {\n",
              "        text-align: right;\n",
              "    }\n",
              "</style>\n",
              "<table border=\"1\" class=\"dataframe\">\n",
              "  <thead>\n",
              "    <tr style=\"text-align: right;\">\n",
              "      <th></th>\n",
              "      <th>Pregnancies</th>\n",
              "      <th>Glucose</th>\n",
              "      <th>BP</th>\n",
              "      <th>SkinThickness</th>\n",
              "      <th>Insulin</th>\n",
              "      <th>BMI</th>\n",
              "      <th>DPF</th>\n",
              "      <th>Age</th>\n",
              "      <th>Outcome</th>\n",
              "    </tr>\n",
              "  </thead>\n",
              "  <tbody>\n",
              "    <tr>\n",
              "      <th>count</th>\n",
              "      <td>703.000000</td>\n",
              "      <td>703.000000</td>\n",
              "      <td>703.000000</td>\n",
              "      <td>703.000000</td>\n",
              "      <td>703.000000</td>\n",
              "      <td>703.000000</td>\n",
              "      <td>703.000000</td>\n",
              "      <td>703.000000</td>\n",
              "      <td>703.000000</td>\n",
              "    </tr>\n",
              "    <tr>\n",
              "      <th>mean</th>\n",
              "      <td>3.834993</td>\n",
              "      <td>119.441640</td>\n",
              "      <td>72.162996</td>\n",
              "      <td>26.048290</td>\n",
              "      <td>104.588071</td>\n",
              "      <td>32.065908</td>\n",
              "      <td>0.440802</td>\n",
              "      <td>32.896159</td>\n",
              "      <td>0.334282</td>\n",
              "    </tr>\n",
              "    <tr>\n",
              "      <th>std</th>\n",
              "      <td>3.284874</td>\n",
              "      <td>29.383161</td>\n",
              "      <td>11.266721</td>\n",
              "      <td>8.914018</td>\n",
              "      <td>56.109178</td>\n",
              "      <td>6.442479</td>\n",
              "      <td>0.269797</td>\n",
              "      <td>11.305359</td>\n",
              "      <td>0.472075</td>\n",
              "    </tr>\n",
              "    <tr>\n",
              "      <th>min</th>\n",
              "      <td>0.000000</td>\n",
              "      <td>44.000000</td>\n",
              "      <td>38.000000</td>\n",
              "      <td>7.000000</td>\n",
              "      <td>15.000000</td>\n",
              "      <td>18.200000</td>\n",
              "      <td>0.078000</td>\n",
              "      <td>21.000000</td>\n",
              "      <td>0.000000</td>\n",
              "    </tr>\n",
              "    <tr>\n",
              "      <th>25%</th>\n",
              "      <td>1.000000</td>\n",
              "      <td>99.000000</td>\n",
              "      <td>64.000000</td>\n",
              "      <td>20.536458</td>\n",
              "      <td>79.799479</td>\n",
              "      <td>27.400000</td>\n",
              "      <td>0.240500</td>\n",
              "      <td>24.000000</td>\n",
              "      <td>0.000000</td>\n",
              "    </tr>\n",
              "    <tr>\n",
              "      <th>50%</th>\n",
              "      <td>3.000000</td>\n",
              "      <td>115.000000</td>\n",
              "      <td>72.000000</td>\n",
              "      <td>22.000000</td>\n",
              "      <td>79.799479</td>\n",
              "      <td>32.000000</td>\n",
              "      <td>0.361000</td>\n",
              "      <td>29.000000</td>\n",
              "      <td>0.000000</td>\n",
              "    </tr>\n",
              "    <tr>\n",
              "      <th>75%</th>\n",
              "      <td>6.000000</td>\n",
              "      <td>137.000000</td>\n",
              "      <td>80.000000</td>\n",
              "      <td>32.000000</td>\n",
              "      <td>115.500000</td>\n",
              "      <td>36.050000</td>\n",
              "      <td>0.591000</td>\n",
              "      <td>40.000000</td>\n",
              "      <td>1.000000</td>\n",
              "    </tr>\n",
              "    <tr>\n",
              "      <th>max</th>\n",
              "      <td>13.000000</td>\n",
              "      <td>198.000000</td>\n",
              "      <td>108.000000</td>\n",
              "      <td>54.000000</td>\n",
              "      <td>328.000000</td>\n",
              "      <td>52.300000</td>\n",
              "      <td>1.353000</td>\n",
              "      <td>68.000000</td>\n",
              "      <td>1.000000</td>\n",
              "    </tr>\n",
              "  </tbody>\n",
              "</table>\n",
              "</div>\n",
              "      <button class=\"colab-df-convert\" onclick=\"convertToInteractive('df-58ea7bef-6c78-403c-9858-93c4a0329a50')\"\n",
              "              title=\"Convert this dataframe to an interactive table.\"\n",
              "              style=\"display:none;\">\n",
              "        \n",
              "  <svg xmlns=\"http://www.w3.org/2000/svg\" height=\"24px\"viewBox=\"0 0 24 24\"\n",
              "       width=\"24px\">\n",
              "    <path d=\"M0 0h24v24H0V0z\" fill=\"none\"/>\n",
              "    <path d=\"M18.56 5.44l.94 2.06.94-2.06 2.06-.94-2.06-.94-.94-2.06-.94 2.06-2.06.94zm-11 1L8.5 8.5l.94-2.06 2.06-.94-2.06-.94L8.5 2.5l-.94 2.06-2.06.94zm10 10l.94 2.06.94-2.06 2.06-.94-2.06-.94-.94-2.06-.94 2.06-2.06.94z\"/><path d=\"M17.41 7.96l-1.37-1.37c-.4-.4-.92-.59-1.43-.59-.52 0-1.04.2-1.43.59L10.3 9.45l-7.72 7.72c-.78.78-.78 2.05 0 2.83L4 21.41c.39.39.9.59 1.41.59.51 0 1.02-.2 1.41-.59l7.78-7.78 2.81-2.81c.8-.78.8-2.07 0-2.86zM5.41 20L4 18.59l7.72-7.72 1.47 1.35L5.41 20z\"/>\n",
              "  </svg>\n",
              "      </button>\n",
              "      \n",
              "  <style>\n",
              "    .colab-df-container {\n",
              "      display:flex;\n",
              "      flex-wrap:wrap;\n",
              "      gap: 12px;\n",
              "    }\n",
              "\n",
              "    .colab-df-convert {\n",
              "      background-color: #E8F0FE;\n",
              "      border: none;\n",
              "      border-radius: 50%;\n",
              "      cursor: pointer;\n",
              "      display: none;\n",
              "      fill: #1967D2;\n",
              "      height: 32px;\n",
              "      padding: 0 0 0 0;\n",
              "      width: 32px;\n",
              "    }\n",
              "\n",
              "    .colab-df-convert:hover {\n",
              "      background-color: #E2EBFA;\n",
              "      box-shadow: 0px 1px 2px rgba(60, 64, 67, 0.3), 0px 1px 3px 1px rgba(60, 64, 67, 0.15);\n",
              "      fill: #174EA6;\n",
              "    }\n",
              "\n",
              "    [theme=dark] .colab-df-convert {\n",
              "      background-color: #3B4455;\n",
              "      fill: #D2E3FC;\n",
              "    }\n",
              "\n",
              "    [theme=dark] .colab-df-convert:hover {\n",
              "      background-color: #434B5C;\n",
              "      box-shadow: 0px 1px 3px 1px rgba(0, 0, 0, 0.15);\n",
              "      filter: drop-shadow(0px 1px 2px rgba(0, 0, 0, 0.3));\n",
              "      fill: #FFFFFF;\n",
              "    }\n",
              "  </style>\n",
              "\n",
              "      <script>\n",
              "        const buttonEl =\n",
              "          document.querySelector('#df-58ea7bef-6c78-403c-9858-93c4a0329a50 button.colab-df-convert');\n",
              "        buttonEl.style.display =\n",
              "          google.colab.kernel.accessAllowed ? 'block' : 'none';\n",
              "\n",
              "        async function convertToInteractive(key) {\n",
              "          const element = document.querySelector('#df-58ea7bef-6c78-403c-9858-93c4a0329a50');\n",
              "          const dataTable =\n",
              "            await google.colab.kernel.invokeFunction('convertToInteractive',\n",
              "                                                     [key], {});\n",
              "          if (!dataTable) return;\n",
              "\n",
              "          const docLinkHtml = 'Like what you see? Visit the ' +\n",
              "            '<a target=\"_blank\" href=https://colab.research.google.com/notebooks/data_table.ipynb>data table notebook</a>'\n",
              "            + ' to learn more about interactive tables.';\n",
              "          element.innerHTML = '';\n",
              "          dataTable['output_type'] = 'display_data';\n",
              "          await google.colab.output.renderOutput(dataTable, element);\n",
              "          const docLink = document.createElement('div');\n",
              "          docLink.innerHTML = docLinkHtml;\n",
              "          element.appendChild(docLink);\n",
              "        }\n",
              "      </script>\n",
              "    </div>\n",
              "  </div>\n",
              "  "
            ]
          },
          "metadata": {},
          "execution_count": 33
        }
      ],
      "source": [
        "new_data.describe()"
      ]
    },
    {
      "cell_type": "markdown",
      "id": "aa8e82cc",
      "metadata": {
        "id": "aa8e82cc"
      },
      "source": [
        "- Looking at the minimum and maximum values of variables we can conclude that the Outliers has been successfully removed. And the data lies between 3 standard deviations."
      ]
    },
    {
      "cell_type": "code",
      "execution_count": 34,
      "id": "830ffb15",
      "metadata": {
        "colab": {
          "base_uri": "https://localhost:8080/"
        },
        "id": "830ffb15",
        "outputId": "24ce87fb-f10a-41e4-b1cb-f94da332eb22"
      },
      "outputs": [
        {
          "output_type": "execute_result",
          "data": {
            "text/plain": [
              "(703, 9)"
            ]
          },
          "metadata": {},
          "execution_count": 34
        }
      ],
      "source": [
        "# Checking the shape after removing all the Outliers\n",
        "new_data.shape"
      ]
    },
    {
      "cell_type": "markdown",
      "source": [
        "- 65 Outliers were removed."
      ],
      "metadata": {
        "id": "5zv6Ed-BLO1M"
      },
      "id": "5zv6Ed-BLO1M"
    },
    {
      "cell_type": "markdown",
      "id": "c75f109c",
      "metadata": {
        "id": "c75f109c"
      },
      "source": [
        "###### 4.7 Correlation matrix"
      ]
    },
    {
      "cell_type": "code",
      "execution_count": 35,
      "id": "52e71a23",
      "metadata": {
        "colab": {
          "base_uri": "https://localhost:8080/",
          "height": 614
        },
        "id": "52e71a23",
        "outputId": "570a2675-5cc0-427e-f052-525cc99beba1"
      },
      "outputs": [
        {
          "output_type": "execute_result",
          "data": {
            "text/plain": [
              "<matplotlib.axes._subplots.AxesSubplot at 0x7f2f0cf8f590>"
            ]
          },
          "metadata": {},
          "execution_count": 35
        },
        {
          "output_type": "display_data",
          "data": {
            "text/plain": [
              "<Figure size 1440x720 with 2 Axes>"
            ],
            "image/png": "[encoded data removed]"
          },
          "metadata": {}
        }
      ],
      "source": [
        "plt.figure(figsize=(20, 10))\n",
        "sns.heatmap(new_data.corr(), annot=True, cmap='cubehelix')"
      ]
    },
    {
      "cell_type": "markdown",
      "id": "d9da9960",
      "metadata": {
        "id": "d9da9960"
      },
      "source": [
        "- All variables are positively correlated to the target variable."
      ]
    },
    {
      "cell_type": "markdown",
      "id": "9928263b",
      "metadata": {
        "id": "9928263b"
      },
      "source": [
        "###### 4.8 Splitting the data "
      ]
    },
    {
      "cell_type": "code",
      "execution_count": 36,
      "id": "7da47b99",
      "metadata": {
        "id": "7da47b99"
      },
      "outputs": [],
      "source": [
        "# Splitting the dataset into features and target variable\n",
        "\n",
        "X = new_data.loc[:, new_data.columns != 'Outcome']                    # Feature variable\n",
        "y = new_data['Outcome']                                               # Target variable"
      ]
    },
    {
      "cell_type": "code",
      "execution_count": 37,
      "id": "a1beae11",
      "metadata": {
        "colab": {
          "base_uri": "https://localhost:8080/"
        },
        "id": "a1beae11",
        "outputId": "39b1387b-4104-48d3-8c76-90d117bdd6ea"
      },
      "outputs": [
        {
          "output_type": "stream",
          "name": "stdout",
          "text": [
            "(703, 8)\n",
            "(703,)\n"
          ]
        }
      ],
      "source": [
        "print(X.shape)\n",
        "print(y.shape)"
      ]
    },
    {
      "cell_type": "markdown",
      "id": "97b2f032",
      "metadata": {
        "id": "97b2f032"
      },
      "source": [
        "###### 4.9 Data Normalization"
      ]
    },
    {
      "cell_type": "code",
      "execution_count": 38,
      "id": "db3c5190",
      "metadata": {
        "id": "db3c5190",
        "colab": {
          "base_uri": "https://localhost:8080/"
        },
        "outputId": "f4adac68-e835-411c-d6d7-c4b63a5c9099"
      },
      "outputs": [
        {
          "output_type": "execute_result",
          "data": {
            "text/plain": [
              "array([[ 0.65955301,  0.9726215 , -0.0144773 , ...,  0.23829095,\n",
              "         0.69063114,  1.51397393],\n",
              "       [-0.8636591 , -1.17299029, -0.54739826, ..., -0.84902092,\n",
              "        -0.33308811, -0.16784159],\n",
              "       [ 1.26883786,  2.16462805, -0.72503858, ..., -1.36161081,\n",
              "         0.85754188, -0.07932498],\n",
              "       ...,\n",
              "       [ 0.35491059,  0.05307359, -0.0144773 , ..., -0.91115303,\n",
              "        -0.72625565, -0.25635819],\n",
              "       [-0.8636591 ,  0.22336024, -1.08031922, ..., -0.30536499,\n",
              "        -0.34050637,  1.24842411],\n",
              "       [-0.8636591 , -0.90053165, -0.19211762, ..., -0.25876591,\n",
              "        -0.46661671, -0.87597444]])"
            ]
          },
          "metadata": {},
          "execution_count": 38
        }
      ],
      "source": [
        "scale = StandardScaler()\n",
        "X = scale.fit_transform(X)\n",
        "X"
      ]
    },
    {
      "cell_type": "markdown",
      "id": "fe80a133",
      "metadata": {
        "id": "fe80a133"
      },
      "source": [
        "### 5. Model Building"
      ]
    },
    {
      "cell_type": "markdown",
      "id": "3a86d304",
      "metadata": {
        "id": "3a86d304"
      },
      "source": [
        "###### 5.1 Instantiating model objects"
      ]
    },
    {
      "cell_type": "code",
      "execution_count": 39,
      "id": "2cb47c0a",
      "metadata": {
        "id": "2cb47c0a"
      },
      "outputs": [],
      "source": [
        "# Logistic Regression\n",
        "log_reg = LogisticRegression(random_state=150)\n",
        "\n",
        "# K-Nearest Neighbor\n",
        "knn = KNeighborsClassifier(n_neighbors=12)\n",
        "\n",
        "# Random Forest\n",
        "rf = RandomForestClassifier(random_state=150)\n",
        "\n",
        "# Support Vector Machines\n",
        "svm = SVC(random_state=50)\n",
        "\n",
        "# AdaBoost\n",
        "adaboost = AdaBoostClassifier(random_state=150)\n",
        "\n",
        "# Gradient Boosting\n",
        "GB = GradientBoostingClassifier(random_state=150)\n",
        "\n",
        "# XGBoost\n",
        "XGB = XGBClassifier(random_state=150)"
      ]
    },
    {
      "cell_type": "markdown",
      "id": "bf4650c0",
      "metadata": {
        "id": "bf4650c0"
      },
      "source": [
        "###### 5.2 Splitting the data using Stratified K-Fold method"
      ]
    },
    {
      "cell_type": "code",
      "execution_count": 40,
      "id": "12816f9c",
      "metadata": {
        "id": "12816f9c"
      },
      "outputs": [],
      "source": [
        "# Setting K-Fold value to 10\n",
        "Skfold = StratifiedKFold(10)"
      ]
    },
    {
      "cell_type": "markdown",
      "id": "3cc246c0",
      "metadata": {
        "id": "3cc246c0"
      },
      "source": [
        "###### 5.3 Mean Accuracy"
      ]
    },
    {
      "cell_type": "code",
      "execution_count": 41,
      "id": "25288097",
      "metadata": {
        "id": "25288097"
      },
      "outputs": [],
      "source": [
        "result_lr = cross_val_score(log_reg, X, y, cv = Skfold)\n",
        "result_knn = cross_val_score(knn, X, y, cv = Skfold)\n",
        "result_rf = cross_val_score(rf, X, y, cv = Skfold)\n",
        "result_svm = cross_val_score(svm, X, y, cv = Skfold)\n",
        "result_adaboost = cross_val_score(adaboost, X, y, cv = Skfold)\n",
        "result_GB = cross_val_score(GB, X, y, cv = Skfold)\n",
        "result_XGB = cross_val_score(XGB, X, y, cv = Skfold)"
      ]
    },
    {
      "cell_type": "code",
      "execution_count": 42,
      "id": "4470bf10",
      "metadata": {
        "colab": {
          "base_uri": "https://localhost:8080/"
        },
        "id": "4470bf10",
        "outputId": "f2039ac0-f3a4-495f-b68a-d32800424b2c"
      },
      "outputs": [
        {
          "output_type": "stream",
          "name": "stdout",
          "text": [
            "[0.73239437 0.78873239 0.77464789 0.78571429 0.77142857 0.77142857\n",
            " 0.78571429 0.84285714 0.75714286 0.8       ]\n",
            "\n",
            "[0.73239437 0.77464789 0.74647887 0.71428571 0.82857143 0.77142857\n",
            " 0.75714286 0.8        0.71428571 0.78571429]\n",
            "\n",
            "[0.73239437 0.81690141 0.73239437 0.74285714 0.75714286 0.78571429\n",
            " 0.8        0.87142857 0.74285714 0.75714286]\n",
            "\n",
            "[0.73239437 0.8028169  0.77464789 0.72857143 0.75714286 0.74285714\n",
            " 0.8        0.85714286 0.74285714 0.8       ]\n",
            "\n",
            "[0.76056338 0.73239437 0.67605634 0.71428571 0.75714286 0.78571429\n",
            " 0.75714286 0.77142857 0.8        0.81428571]\n",
            "\n",
            "[0.76056338 0.8028169  0.69014085 0.71428571 0.75714286 0.75714286\n",
            " 0.75714286 0.82857143 0.75714286 0.8       ]\n",
            "\n",
            "[0.76056338 0.8028169  0.71830986 0.68571429 0.77142857 0.77142857\n",
            " 0.72857143 0.82857143 0.75714286 0.8       ]\n",
            "\n"
          ]
        }
      ],
      "source": [
        "result = [result_lr, result_knn, result_rf, result_svm, \n",
        "          result_adaboost, result_GB, result_XGB]\n",
        "\n",
        "for i in result:\n",
        "    print(i)\n",
        "    print()"
      ]
    },
    {
      "cell_type": "code",
      "execution_count": 43,
      "id": "ed595199",
      "metadata": {
        "colab": {
          "base_uri": "https://localhost:8080/"
        },
        "id": "ed595199",
        "outputId": "f1bea798-42aa-4a3e-c290-49305115f114"
      },
      "outputs": [
        {
          "output_type": "stream",
          "name": "stdout",
          "text": [
            "======================  ===============\n",
            "Model                     Mean Accuracy\n",
            "======================  ===============\n",
            "Logistic Regression            0.781006\n",
            "K-Nearest Neighbor             0.762495\n",
            "Random Forest                  0.773883\n",
            "Support Vector Machine         0.773843\n",
            "AdaBoost                       0.756901\n",
            "Gradient Boosting              0.762495\n",
            "XGBoost                        0.762455\n",
            "======================  ===============\n"
          ]
        }
      ],
      "source": [
        "table = [['Logistic Regression', np.mean(result_lr)],\n",
        "         ['K-Nearest Neighbor', np.mean(result_knn)],\n",
        "         ['Random Forest', np.mean(result_rf)],\n",
        "         ['Support Vector Machine', np.mean(result_svm)],\n",
        "         ['AdaBoost', np.mean(result_adaboost)],\n",
        "         ['Gradient Boosting', np.mean(result_GB)],\n",
        "         ['XGBoost', np.mean(result_XGB)]]\n",
        "\n",
        "print(tabulate(table, headers=['Model', 'Mean Accuracy'], tablefmt='rst'))"
      ]
    },
    {
      "cell_type": "markdown",
      "id": "d42db6d7",
      "metadata": {
        "id": "d42db6d7"
      },
      "source": [
        "- Logistic Regression is performing better for this classification problem.\n",
        "- There is not much difference in the mean accuracy of each model."
      ]
    },
    {
      "cell_type": "markdown",
      "id": "2bf7f1b7",
      "metadata": {
        "id": "2bf7f1b7"
      },
      "source": [
        "### 6. Hyperparameter Tuning"
      ]
    },
    {
      "cell_type": "markdown",
      "id": "503e7b11",
      "metadata": {
        "id": "503e7b11"
      },
      "source": [
        "###### 6.1 Logistic Regression"
      ]
    },
    {
      "cell_type": "code",
      "execution_count": 44,
      "id": "28ec2ee3",
      "metadata": {
        "colab": {
          "base_uri": "https://localhost:8080/"
        },
        "id": "28ec2ee3",
        "outputId": "e97dd3e5-72bd-4be8-971f-7f70302ed064"
      },
      "outputs": [
        {
          "output_type": "execute_result",
          "data": {
            "text/plain": [
              "GridSearchCV(cv=StratifiedKFold(n_splits=10, random_state=None, shuffle=False),\n",
              "             estimator=LogisticRegression(random_state=150),\n",
              "             param_grid={'C': array([ 1,  2,  3,  4,  5,  6,  7,  8,  9, 10, 11, 12, 13, 14, 15, 16, 17,\n",
              "       18, 19, 20, 21, 22, 23, 24]),\n",
              "                         'max_iter': [100, 1000, 2500, 5000],\n",
              "                         'penalty': ['l1', 'l2', 'elasticnet', 'none'],\n",
              "                         'solver': ['lbfgs', 'newton-cg', 'liblinear', 'sag',\n",
              "                                    'saga']})"
            ]
          },
          "metadata": {},
          "execution_count": 44
        }
      ],
      "source": [
        "# Create a new Logistic Regression Classifier\n",
        "log_reg_new = LogisticRegression(random_state=150)\n",
        "params_lr = {'penalty': ['l1', 'l2', 'elasticnet', 'none'],\n",
        "             'C': np.arange(1, 25),\n",
        "            'solver': ['lbfgs', 'newton-cg', 'liblinear', 'sag', 'saga'],\n",
        "            'max_iter': [100, 1000, 2500, 5000]}\n",
        "logreg_gs = GridSearchCV(log_reg_new,params_lr, cv=Skfold)\n",
        "logreg_gs.fit(X,y)"
      ]
    },
    {
      "cell_type": "code",
      "execution_count": 45,
      "id": "104a5bda",
      "metadata": {
        "colab": {
          "base_uri": "https://localhost:8080/"
        },
        "id": "104a5bda",
        "outputId": "51b717bf-aa0a-47eb-fec3-26b5ebc37784"
      },
      "outputs": [
        {
          "output_type": "stream",
          "name": "stdout",
          "text": [
            "{'C': 3, 'max_iter': 100, 'penalty': 'l1', 'solver': 'liblinear'}\n"
          ]
        }
      ],
      "source": [
        "# Save best model\n",
        "logreg_best = logreg_gs.best_estimator_\n",
        "# Check the best parameters for Logistic Regression\n",
        "print(logreg_gs.best_params_)"
      ]
    },
    {
      "cell_type": "code",
      "execution_count": 46,
      "id": "0f0858b1",
      "metadata": {
        "id": "0f0858b1"
      },
      "outputs": [],
      "source": [
        "# Check mean score for the top performing value\n",
        "lr_best_score = logreg_gs.best_score_ "
      ]
    },
    {
      "cell_type": "markdown",
      "id": "3847c8a6",
      "metadata": {
        "id": "3847c8a6"
      },
      "source": [
        "###### 6.2 K-Nearest Neighbor"
      ]
    },
    {
      "cell_type": "code",
      "execution_count": 47,
      "id": "d7b4af3d",
      "metadata": {
        "colab": {
          "base_uri": "https://localhost:8080/"
        },
        "id": "d7b4af3d",
        "outputId": "15ad5e67-8b1d-438b-9dde-20e1b513f298"
      },
      "outputs": [
        {
          "output_type": "execute_result",
          "data": {
            "text/plain": [
              "GridSearchCV(cv=StratifiedKFold(n_splits=10, random_state=None, shuffle=False),\n",
              "             estimator=KNeighborsClassifier(),\n",
              "             param_grid={'algorithm': ['auto', 'ball_tree', 'kd_tree', 'brute'],\n",
              "                         'n_neighbors': array([ 1,  2,  3,  4,  5,  6,  7,  8,  9, 10, 11, 12, 13, 14, 15, 16, 17,\n",
              "       18, 19, 20, 21, 22, 23, 24]),\n",
              "                         'p': [1, 2],\n",
              "                         'weights': ['uniform', 'distance',\n",
              "                                     <built-in function callable>]})"
            ]
          },
          "metadata": {},
          "execution_count": 47
        }
      ],
      "source": [
        "# Create a new KNN classifier\n",
        "knn_new = KNeighborsClassifier()\n",
        "params_knn = {'n_neighbors': np.arange(1, 25),\n",
        "             'weights': ['uniform', 'distance', callable],\n",
        "             'algorithm': ['auto', 'ball_tree', 'kd_tree', 'brute'],\n",
        "             'p': [1, 2]}\n",
        "knn_gs = GridSearchCV(knn_new, params_knn, cv=Skfold)\n",
        "knn_gs.fit(X,y)"
      ]
    },
    {
      "cell_type": "code",
      "execution_count": 48,
      "id": "37092453",
      "metadata": {
        "colab": {
          "base_uri": "https://localhost:8080/"
        },
        "id": "37092453",
        "outputId": "f9f614f8-8af1-498a-d1d1-3a893ad3a6e7"
      },
      "outputs": [
        {
          "output_type": "stream",
          "name": "stdout",
          "text": [
            "{'algorithm': 'auto', 'n_neighbors': 22, 'p': 2, 'weights': 'uniform'}\n"
          ]
        }
      ],
      "source": [
        "# Save best model\n",
        "knn_best = knn_gs.best_estimator_\n",
        "# Check the best parameters for KNN\n",
        "print(knn_gs.best_params_)"
      ]
    },
    {
      "cell_type": "code",
      "execution_count": 49,
      "id": "e125cae7",
      "metadata": {
        "id": "e125cae7"
      },
      "outputs": [],
      "source": [
        "#check mean score for the top performing value of n_neighbors\n",
        "knn_best_score = knn_gs.best_score_"
      ]
    },
    {
      "cell_type": "markdown",
      "id": "1ef3c7fa",
      "metadata": {
        "id": "1ef3c7fa"
      },
      "source": [
        "###### 6.3 Random Forest"
      ]
    },
    {
      "cell_type": "code",
      "execution_count": 50,
      "id": "4e40c443",
      "metadata": {
        "id": "4e40c443",
        "colab": {
          "base_uri": "https://localhost:8080/"
        },
        "outputId": "cfc857dc-324f-4d69-822a-f42392ff8633"
      },
      "outputs": [
        {
          "output_type": "execute_result",
          "data": {
            "text/plain": [
              "GridSearchCV(cv=StratifiedKFold(n_splits=10, random_state=None, shuffle=False),\n",
              "             estimator=RandomForestClassifier(random_state=150),\n",
              "             param_grid={'class_weight': ['balanced', 'balanced_subsample',\n",
              "                                          'none'],\n",
              "                         'criterion': ['gini', 'entropy'],\n",
              "                         'max_features': ['auto', 'sqrt', 'log2'],\n",
              "                         'n_estimators': [50, 100, 200, 250]})"
            ]
          },
          "metadata": {},
          "execution_count": 50
        }
      ],
      "source": [
        "# Create a new random forest classifier\n",
        "rf_new = RandomForestClassifier(random_state=150)\n",
        "params_rf = {'n_estimators': [50, 100, 200, 250],\n",
        "            'criterion': ['gini', 'entropy'],\n",
        "            'max_features': ['auto', 'sqrt', 'log2'],\n",
        "            'class_weight': ['balanced', 'balanced_subsample', 'none']}\n",
        "rf_gs = GridSearchCV(rf_new, params_rf, cv=Skfold)\n",
        "rf_gs.fit(X,y)"
      ]
    },
    {
      "cell_type": "code",
      "execution_count": 51,
      "id": "d7085350",
      "metadata": {
        "colab": {
          "base_uri": "https://localhost:8080/"
        },
        "id": "d7085350",
        "outputId": "660b725f-9d5b-4fd8-a928-e225e801909f"
      },
      "outputs": [
        {
          "output_type": "stream",
          "name": "stdout",
          "text": [
            "{'class_weight': 'balanced_subsample', 'criterion': 'entropy', 'max_features': 'auto', 'n_estimators': 50}\n"
          ]
        }
      ],
      "source": [
        "# Save best model\n",
        "rf_best = rf_gs.best_estimator_\n",
        "# Check the best parameters for Random Forest\n",
        "print(rf_gs.best_params_)"
      ]
    },
    {
      "cell_type": "code",
      "execution_count": 52,
      "id": "2356a2ec",
      "metadata": {
        "id": "2356a2ec"
      },
      "outputs": [],
      "source": [
        "#check mean score for the top performing value of n_estimators\n",
        "rf_best_score = rf_gs.best_score_"
      ]
    },
    {
      "cell_type": "markdown",
      "id": "7f2bf391",
      "metadata": {
        "id": "7f2bf391"
      },
      "source": [
        "###### 6.4 Support Vector Machines"
      ]
    },
    {
      "cell_type": "code",
      "execution_count": 53,
      "id": "480521c0",
      "metadata": {
        "id": "480521c0",
        "colab": {
          "base_uri": "https://localhost:8080/"
        },
        "outputId": "71a4f6fe-04e5-4c19-b909-e0a02f377f51"
      },
      "outputs": [
        {
          "output_type": "execute_result",
          "data": {
            "text/plain": [
              "GridSearchCV(cv=StratifiedKFold(n_splits=10, random_state=None, shuffle=False),\n",
              "             estimator=SVC(random_state=150),\n",
              "             param_grid={'C': [0.1, 1, 10, 100, 1000],\n",
              "                         'gamma': [1, 0.1, 0.01, 0.001, 0.0001],\n",
              "                         'kernel': ['linear', 'rbf', 'sigmoid']})"
            ]
          },
          "metadata": {},
          "execution_count": 53
        }
      ],
      "source": [
        "# Create a new SVC Classifier\n",
        "svm_new = SVC(random_state=150)\n",
        "params_svc = {'C': [0.1, 1, 10, 100, 1000],\n",
        "             'gamma': [1, 0.1, 0.01, 0.001, 0.0001],\n",
        "             'kernel':['linear','rbf','sigmoid']}\n",
        "svc_gs = GridSearchCV(svm_new, params_svc, cv=Skfold)\n",
        "svc_gs.fit(X, y)"
      ]
    },
    {
      "cell_type": "code",
      "execution_count": 54,
      "id": "e1673a83",
      "metadata": {
        "colab": {
          "base_uri": "https://localhost:8080/"
        },
        "id": "e1673a83",
        "outputId": "9b60e4cd-2b8c-41e3-c7c5-781834a31dd7"
      },
      "outputs": [
        {
          "output_type": "stream",
          "name": "stdout",
          "text": [
            "{'C': 10, 'gamma': 0.001, 'kernel': 'rbf'}\n"
          ]
        }
      ],
      "source": [
        "# Save best model\n",
        "svc_best = svc_gs.best_estimator_\n",
        "\n",
        "# Check the best parameters for SVM\n",
        "print(svc_gs.best_params_)"
      ]
    },
    {
      "cell_type": "code",
      "execution_count": 55,
      "id": "5660a885",
      "metadata": {
        "id": "5660a885"
      },
      "outputs": [],
      "source": [
        "#check mean score for the top performing value of C, gamma, and kernel\n",
        "svc_best_score = svc_gs.best_score_"
      ]
    },
    {
      "cell_type": "markdown",
      "id": "28aab1c4",
      "metadata": {
        "id": "28aab1c4"
      },
      "source": [
        "###### 6.5 AdaBoost"
      ]
    },
    {
      "cell_type": "code",
      "execution_count": 56,
      "id": "4f5fe7eb",
      "metadata": {
        "id": "4f5fe7eb",
        "colab": {
          "base_uri": "https://localhost:8080/"
        },
        "outputId": "a215ce0f-afc7-4e11-cf7c-e9b53154c77f"
      },
      "outputs": [
        {
          "output_type": "execute_result",
          "data": {
            "text/plain": [
              "GridSearchCV(cv=StratifiedKFold(n_splits=10, random_state=None, shuffle=False),\n",
              "             estimator=AdaBoostClassifier(random_state=150),\n",
              "             param_grid={'algorithm': ['SAMME', 'SAMME.R'],\n",
              "                         'learning_rate': [0.1, 0.2, 0.3, 0.4, 0.5, 0.6, 0.7,\n",
              "                                           0.8, 0.9, 1.0],\n",
              "                         'n_estimators': [50, 100, 150, 200]})"
            ]
          },
          "metadata": {},
          "execution_count": 56
        }
      ],
      "source": [
        "# Create a new Adaboost Classifier\n",
        "adaboost_new = AdaBoostClassifier(random_state=150)\n",
        "params_adaboost = {'algorithm': ['SAMME', 'SAMME.R'],\n",
        "                  'learning_rate': [0.1, 0.2, 0.3, 0.4, 0.5, \n",
        "                                    0.6, 0.7, 0.8, 0.9, 1.0],\n",
        "                  'n_estimators': [50, 100, 150, 200]}\n",
        "adaboost_gs = GridSearchCV(adaboost_new, params_adaboost, cv=Skfold)\n",
        "adaboost_gs.fit(X, y)"
      ]
    },
    {
      "cell_type": "code",
      "execution_count": 57,
      "id": "ab67047a",
      "metadata": {
        "colab": {
          "base_uri": "https://localhost:8080/"
        },
        "id": "ab67047a",
        "outputId": "522b66ca-2f20-49c3-facd-49dd429160af"
      },
      "outputs": [
        {
          "output_type": "stream",
          "name": "stdout",
          "text": [
            "{'algorithm': 'SAMME', 'learning_rate': 0.9, 'n_estimators': 100}\n"
          ]
        }
      ],
      "source": [
        "# Save best model\n",
        "adaboost_best = adaboost_gs.best_estimator_\n",
        "\n",
        "# Check the best parameters for AdaBoost\n",
        "print(adaboost_gs.best_params_)"
      ]
    },
    {
      "cell_type": "code",
      "execution_count": 58,
      "id": "a501c480",
      "metadata": {
        "id": "a501c480"
      },
      "outputs": [],
      "source": [
        "#check mean score for the top performing value \n",
        "adaboost_best_score = adaboost_gs.best_score_"
      ]
    },
    {
      "cell_type": "markdown",
      "id": "17d6b03c",
      "metadata": {
        "id": "17d6b03c"
      },
      "source": [
        "###### 6.6 Gradient Boosting"
      ]
    },
    {
      "cell_type": "code",
      "execution_count": 59,
      "id": "ac50dbf3",
      "metadata": {
        "id": "ac50dbf3",
        "colab": {
          "base_uri": "https://localhost:8080/"
        },
        "outputId": "e8fa6de1-3b6e-49ea-f7b0-0a991485ebbb"
      },
      "outputs": [
        {
          "output_type": "execute_result",
          "data": {
            "text/plain": [
              "GridSearchCV(cv=StratifiedKFold(n_splits=10, random_state=None, shuffle=False),\n",
              "             estimator=GradientBoostingClassifier(random_state=150),\n",
              "             param_grid={'criterion': ['friedman_mse', 'squared_error', 'mse',\n",
              "                                       'mae'],\n",
              "                         'learning_rate': [0.1, 0.2, 0.3, 0.4, 0.5, 0.6, 0.7,\n",
              "                                           0.8, 0.9, 1.0],\n",
              "                         'loss': ['deviance', 'exponential'],\n",
              "                         'max_features': ['auto', 'sqrt', 'log2']})"
            ]
          },
          "metadata": {},
          "execution_count": 59
        }
      ],
      "source": [
        "# Create a new Gradient Boosting Classifier\n",
        "GB_new = GradientBoostingClassifier(random_state=150)\n",
        "params_GB = {'loss': ['deviance', 'exponential'],\n",
        "            'learning_rate': [0.1, 0.2, 0.3, 0.4, 0.5, 0.6, 0.7, 0.8, 0.9, 1.0],\n",
        "            'criterion': ['friedman_mse', 'squared_error', 'mse', 'mae'],\n",
        "            'max_features': ['auto', 'sqrt', 'log2']}\n",
        "GB_gs = GridSearchCV(GB_new, params_GB, cv=Skfold)\n",
        "GB_gs.fit(X, y)"
      ]
    },
    {
      "cell_type": "code",
      "execution_count": 60,
      "id": "6c4a203b",
      "metadata": {
        "colab": {
          "base_uri": "https://localhost:8080/"
        },
        "id": "6c4a203b",
        "outputId": "019ede1a-46f2-48b0-f5f1-6216a330cf3e"
      },
      "outputs": [
        {
          "output_type": "stream",
          "name": "stdout",
          "text": [
            "{'criterion': 'squared_error', 'learning_rate': 0.1, 'loss': 'exponential', 'max_features': 'auto'}\n"
          ]
        }
      ],
      "source": [
        "# Save best model\n",
        "GB_best = GB_gs.best_estimator_\n",
        "\n",
        "# Check the best parameters for Gradient Boosting\n",
        "print(GB_gs.best_params_)"
      ]
    },
    {
      "cell_type": "code",
      "execution_count": 61,
      "id": "9ac6e5e0",
      "metadata": {
        "id": "9ac6e5e0"
      },
      "outputs": [],
      "source": [
        "#check mean score for the top performing value \n",
        "GB_best_score = GB_gs.best_score_"
      ]
    },
    {
      "cell_type": "markdown",
      "source": [
        "###### 6.7 XG Boost"
      ],
      "metadata": {
        "id": "4jfVxFa5NGI6"
      },
      "id": "4jfVxFa5NGI6"
    },
    {
      "cell_type": "code",
      "source": [
        "# Create a new XGBoost Classifier\n",
        "XGB_new = XGBClassifier(random_state=150)\n",
        "params_XGB = {'min_child_weight': [1, 5, 10],\n",
        "             'gamma': [0.5, 1, 1.5, 2, 5],\n",
        "             'subsample': [0.6, 0.8, 1.0],\n",
        "             'colsample_bytree': [0.6, 0.8, 1.0],\n",
        "             'max_depth': [3, 4, 5]}\n",
        "XGB_gs = GridSearchCV(XGB_new, params_XGB, cv=Skfold)\n",
        "XGB_gs.fit(X, y)"
      ],
      "metadata": {
        "id": "h73IG3FFNPio",
        "colab": {
          "base_uri": "https://localhost:8080/"
        },
        "outputId": "f9673d37-e810-4e52-a7b3-3503286b8ce7"
      },
      "id": "h73IG3FFNPio",
      "execution_count": 62,
      "outputs": [
        {
          "output_type": "execute_result",
          "data": {
            "text/plain": [
              "GridSearchCV(cv=StratifiedKFold(n_splits=10, random_state=None, shuffle=False),\n",
              "             estimator=XGBClassifier(random_state=150),\n",
              "             param_grid={'colsample_bytree': [0.6, 0.8, 1.0],\n",
              "                         'gamma': [0.5, 1, 1.5, 2, 5], 'max_depth': [3, 4, 5],\n",
              "                         'min_child_weight': [1, 5, 10],\n",
              "                         'subsample': [0.6, 0.8, 1.0]})"
            ]
          },
          "metadata": {},
          "execution_count": 62
        }
      ]
    },
    {
      "cell_type": "code",
      "source": [
        "# Save best model\n",
        "XGB_best = XGB_gs.best_estimator_\n",
        "\n",
        "# Check the best parameters for XgBoost\n",
        "print(XGB_gs.best_params_)"
      ],
      "metadata": {
        "colab": {
          "base_uri": "https://localhost:8080/"
        },
        "id": "461GMv6bRs7w",
        "outputId": "b5e8e0b3-038f-48cd-feab-6b60b8f23c15"
      },
      "id": "461GMv6bRs7w",
      "execution_count": 63,
      "outputs": [
        {
          "output_type": "stream",
          "name": "stdout",
          "text": [
            "{'colsample_bytree': 1.0, 'gamma': 5, 'max_depth': 4, 'min_child_weight': 5, 'subsample': 0.6}\n"
          ]
        }
      ]
    },
    {
      "cell_type": "code",
      "source": [
        "#check mean score for the top performing value \n",
        "XGB_best_score = XGB_gs.best_score_"
      ],
      "metadata": {
        "id": "YAwkuT-vR0vi"
      },
      "id": "YAwkuT-vR0vi",
      "execution_count": 64,
      "outputs": []
    },
    {
      "cell_type": "markdown",
      "id": "a18a3fbc",
      "metadata": {
        "id": "a18a3fbc"
      },
      "source": [
        "###### 6.8 Mean accuracy after Hyperparameter Tuning"
      ]
    },
    {
      "cell_type": "code",
      "execution_count": 65,
      "id": "0568cb9c",
      "metadata": {
        "colab": {
          "base_uri": "https://localhost:8080/"
        },
        "id": "0568cb9c",
        "outputId": "416c77a0-0871-4ade-f802-41d9a8eaef03"
      },
      "outputs": [
        {
          "output_type": "stream",
          "name": "stdout",
          "text": [
            "======================  ===============\n",
            "Model                     Mean Accuracy\n",
            "======================  ===============\n",
            "Logistic Regression            0.783863\n",
            "K-Nearest Neighbor             0.782414\n",
            "Random Forest                  0.788169\n",
            "Support Vector Machine         0.78664\n",
            "AdaBoost                       0.782394\n",
            "Gradient Boosting              0.781026\n",
            "XGBoost                        0.781026\n",
            "======================  ===============\n"
          ]
        }
      ],
      "source": [
        "table_HT = [['Logistic Regression', lr_best_score],\n",
        "            ['K-Nearest Neighbor', knn_best_score],\n",
        "            ['Random Forest', rf_best_score],\n",
        "            ['Support Vector Machine', svc_best_score],\n",
        "            ['AdaBoost', adaboost_best_score],\n",
        "            ['Gradient Boosting', GB_best_score],\n",
        "            ['XGBoost', XGB_best_score]]\n",
        "\n",
        "print(tabulate(table_HT, headers=['Model', 'Mean Accuracy'], tablefmt='rst'))"
      ]
    },
    {
      "cell_type": "markdown",
      "id": "badbd9c9",
      "metadata": {
        "id": "badbd9c9"
      },
      "source": [
        "- After Hyperparameter Tuning SVM is showing better results than other classifiers."
      ]
    },
    {
      "cell_type": "markdown",
      "id": "0b47c289",
      "metadata": {
        "id": "0b47c289"
      },
      "source": [
        "###### Making Predictions"
      ]
    },
    {
      "cell_type": "code",
      "execution_count": 66,
      "id": "e701f80d",
      "metadata": {
        "id": "e701f80d"
      },
      "outputs": [],
      "source": [
        "y_pred_knn = knn_best.predict(X)\n",
        "y_pred_log_reg = logreg_best.predict(X)\n",
        "y_pred_rf = rf_best.predict(X)\n",
        "y_pred_svc = svc_best.predict(X)\n",
        "y_pred_adaboost = adaboost_best.predict(X)\n",
        "y_pred_GB = GB_best.predict(X)\n",
        "y_pred_XGB = XGB_best.predict(X)"
      ]
    },
    {
      "cell_type": "markdown",
      "id": "7a8b7871",
      "metadata": {
        "id": "7a8b7871"
      },
      "source": [
        "###### 6.9 Accuracy of the best saved model"
      ]
    },
    {
      "cell_type": "code",
      "execution_count": 67,
      "id": "a5333ed6",
      "metadata": {
        "colab": {
          "base_uri": "https://localhost:8080/"
        },
        "id": "a5333ed6",
        "outputId": "83c38822-583e-4ec9-81ee-8e777888d984"
      },
      "outputs": [
        {
          "output_type": "stream",
          "name": "stdout",
          "text": [
            "======================  ==========\n",
            "Model                     Accuracy\n",
            "======================  ==========\n",
            "Logistic Regression       0.790896\n",
            "K-Nearest Neighbor        0.798009\n",
            "Random Forest             0.998578\n",
            "Support Vector Machine    0.795164\n",
            "AdaBoost                  0.806543\n",
            "Gradient Boosting         0.903272\n",
            "XGBoost                   0.83357\n",
            "======================  ==========\n"
          ]
        }
      ],
      "source": [
        "table_Acc = [['Logistic Regression', accuracy_score(y, y_pred_log_reg)],\n",
        "            ['K-Nearest Neighbor', accuracy_score(y, y_pred_knn)],\n",
        "            ['Random Forest', accuracy_score(y, y_pred_rf)],\n",
        "            ['Support Vector Machine', accuracy_score(y, y_pred_svc)],\n",
        "            ['AdaBoost', accuracy_score(y, y_pred_adaboost)],\n",
        "            ['Gradient Boosting', accuracy_score(y, y_pred_GB)],\n",
        "            ['XGBoost', accuracy_score(y, y_pred_XGB)]]\n",
        "\n",
        "print(tabulate(table_Acc, headers=['Model', 'Accuracy'], tablefmt='rst'))"
      ]
    },
    {
      "cell_type": "markdown",
      "id": "cf2fa758",
      "metadata": {
        "id": "cf2fa758"
      },
      "source": [
        "- Random Forest is showing the highest accuracy score."
      ]
    },
    {
      "cell_type": "markdown",
      "id": "31afff4f",
      "metadata": {
        "id": "31afff4f"
      },
      "source": [
        "### 7. Voting Classifier"
      ]
    },
    {
      "cell_type": "code",
      "execution_count": 68,
      "id": "74630f92",
      "metadata": {
        "id": "74630f92"
      },
      "outputs": [],
      "source": [
        "# Create a list of base models\n",
        "estimators=[('log_reg', logreg_best), ('knn', knn_best), ('rf', rf_best),\n",
        "            ('svm', svc_best), ('adaboost', adaboost_best), \n",
        "            ('Gradient Boosting', GB_best), ('XGBoost', XGB_best)]\n",
        "# Create the voting classifier and give the estimators as input to it\n",
        "ensemble = VotingClassifier(estimators, voting='hard')"
      ]
    },
    {
      "cell_type": "code",
      "execution_count": 69,
      "id": "a65292f9",
      "metadata": {
        "colab": {
          "base_uri": "https://localhost:8080/"
        },
        "id": "a65292f9",
        "outputId": "ef6229ad-a707-4230-8704-94d4e8f61dec"
      },
      "outputs": [
        {
          "output_type": "execute_result",
          "data": {
            "text/plain": [
              "0.8463726884779517"
            ]
          },
          "metadata": {},
          "execution_count": 69
        }
      ],
      "source": [
        "# Fit model to training data\n",
        "ensemble.fit(X, y)\n",
        "# Test our model on the test data\n",
        "ensemble.score(X, y)"
      ]
    },
    {
      "cell_type": "markdown",
      "source": [
        "### 8. Performance Metrics"
      ],
      "metadata": {
        "id": "D582H0B_bWWY"
      },
      "id": "D582H0B_bWWY"
    },
    {
      "cell_type": "code",
      "execution_count": 70,
      "id": "cf716495",
      "metadata": {
        "id": "cf716495"
      },
      "outputs": [],
      "source": [
        "# Predict the values\n",
        "y_pred_ensemble = ensemble.predict(X)"
      ]
    },
    {
      "cell_type": "markdown",
      "source": [
        "###### 8.1 Confusion Matrix"
      ],
      "metadata": {
        "id": "KyT6-HXub32K"
      },
      "id": "KyT6-HXub32K"
    },
    {
      "cell_type": "code",
      "execution_count": 71,
      "id": "9f4fc37c",
      "metadata": {
        "colab": {
          "base_uri": "https://localhost:8080/",
          "height": 320
        },
        "id": "9f4fc37c",
        "outputId": "630b406c-3b92-46ee-b523-d46875a39b1d"
      },
      "outputs": [
        {
          "output_type": "display_data",
          "data": {
            "text/plain": [
              "<Figure size 504x360 with 1 Axes>"
            ],
            "image/png": "[encoded data removed]"
          },
          "metadata": {}
        }
      ],
      "source": [
        "# Compute the confusion matrix\n",
        "CM = confusion_matrix(y, y_pred_ensemble)\n",
        "\n",
        "# Label the confusion matrix\n",
        "conf_matrix = pd.DataFrame(data=CM, columns=['Predicted:0','Predicted:1'],\n",
        "                           index=['Actual:0','Actual:1'])\n",
        "\n",
        "# Set size of plot\n",
        "plt.figure(figsize=(7, 5))\n",
        "\n",
        "sns.heatmap(conf_matrix, annot=True, fmt='d', cmap='YlGnBu', cbar=False)\n",
        "plt.show()"
      ]
    },
    {
      "cell_type": "markdown",
      "source": [
        "- 108 patients are misclassified.\n",
        "- 79 patients were diabetic but were classified as non-diabetic.\n",
        "- 29 patients were non-diabetic but were classified as diabetic."
      ],
      "metadata": {
        "id": "SeyiS290hqWx"
      },
      "id": "SeyiS290hqWx"
    },
    {
      "cell_type": "markdown",
      "source": [
        "###### 8.2 AUC-ROC Curve"
      ],
      "metadata": {
        "id": "pdSx9UX3cGXh"
      },
      "id": "pdSx9UX3cGXh"
    },
    {
      "cell_type": "code",
      "execution_count": 72,
      "id": "47937a18",
      "metadata": {
        "colab": {
          "base_uri": "https://localhost:8080/",
          "height": 341
        },
        "id": "47937a18",
        "outputId": "b115e600-9241-4070-cdd0-eb2ef8d4f2ab"
      },
      "outputs": [
        {
          "output_type": "display_data",
          "data": {
            "text/plain": [
              "<Figure size 576x360 with 1 Axes>"
            ],
            "image/png": "[encoded data removed]"
          },
          "metadata": {}
        }
      ],
      "source": [
        "# Set the figure size\n",
        "plt.rcParams['figure.figsize']=(8,5)\n",
        "\n",
        "fpr, tpr, thresholds = roc_curve(y,y_pred_ensemble)\n",
        "\n",
        "# Plot the ROC curve\n",
        "with plt.style.context('ggplot'):\n",
        "    plt.plot(fpr,tpr,color='violet')\n",
        "    # Set limits for x and y axes\n",
        "    plt.xlim([0.0,1.0])\n",
        "    plt.ylim([0.0,1.0])\n",
        "    # Plot the straight line showing worst prediction of the model\n",
        "    plt.plot([0,1],[0,1],'k--')\n",
        "    # Add the AUC score\n",
        "    plt.text(x=0.05, y=0.8, \n",
        "             s=('AUCscore:', round(roc_auc_score(y,y_pred_ensemble),4)))\n",
        "    # Name the plot, and both axes\n",
        "    plt.xlabel('False positive rate')\n",
        "    plt.ylabel('True positive rate')\n",
        "    # Plot the grid\n",
        "    plt.grid(True)\n",
        "    plt.show()"
      ]
    },
    {
      "cell_type": "markdown",
      "source": [
        "- AUC score is 80% which can be considered that our model is good at distinguishing diabetic and non-diabetic patients.\n",
        "- The curve is closer to the top-left corner which indicates a better performance."
      ],
      "metadata": {
        "id": "gjjAD1cOfXDa"
      },
      "id": "gjjAD1cOfXDa"
    },
    {
      "cell_type": "markdown",
      "source": [
        "###### 8.3 Performance Metrics in Tabulated Format"
      ],
      "metadata": {
        "id": "tBGBJ-xicWsu"
      },
      "id": "tBGBJ-xicWsu"
    },
    {
      "cell_type": "code",
      "execution_count": 73,
      "id": "d337adbd",
      "metadata": {
        "colab": {
          "base_uri": "https://localhost:8080/"
        },
        "id": "d337adbd",
        "outputId": "64570b72-176a-4c99-f0ae-b7a9005ca522"
      },
      "outputs": [
        {
          "output_type": "stream",
          "name": "stdout",
          "text": [
            "====================  ========\n",
            "Performance Metric       Score\n",
            "====================  ========\n",
            "AUC Score             0.800932\n",
            "Precision Score       0.843243\n",
            "Recall Score          0.66383\n",
            "Accuracy Score        0.846373\n",
            "f1-score              0.742857\n",
            "====================  ========\n"
          ]
        }
      ],
      "source": [
        "table_VC = [['AUC Score', metrics.roc_auc_score(y,y_pred_ensemble)],\n",
        "            ['Precision Score', metrics.precision_score(y,y_pred_ensemble)],\n",
        "            ['Recall Score', metrics.recall_score(y,y_pred_ensemble)],\n",
        "            ['Accuracy Score', metrics.accuracy_score(y,y_pred_ensemble)],\n",
        "            ['f1-score', metrics.f1_score(y,y_pred_ensemble)]]\n",
        "\n",
        "print(tabulate(table_VC, headers=['Performance Metric', 'Score'],\n",
        "               tablefmt='rst'))"
      ]
    },
    {
      "cell_type": "markdown",
      "source": [
        "### 9. Conclusion"
      ],
      "metadata": {
        "id": "6RKLDLkmbRWC"
      },
      "id": "6RKLDLkmbRWC"
    },
    {
      "cell_type": "markdown",
      "source": [
        "As the dataset that we have is imbalanced, the best performance metric is f1-score. In our case the f1-score is pretty good, which means our model performance is good. Other performance metrics is also showing good score."
      ],
      "metadata": {
        "id": "t5gUw-xMciNa"
      },
      "id": "t5gUw-xMciNa"
    }
  ],
  "metadata": {
    "kernelspec": {
      "display_name": "Python 3 (ipykernel)",
      "language": "python",
      "name": "python3"
    },
    "language_info": {
      "codemirror_mode": {
        "name": "ipython",
        "version": 3
      },
      "file_extension": ".py",
      "mimetype": "text/x-python",
      "name": "python",
      "nbconvert_exporter": "python",
      "pygments_lexer": "ipython3",
      "version": "3.9.7"
    },
    "colab": {
      "name": "Capstone Project on Pima Indians Diabetes.ipynb",
      "provenance": []
    }
  },
  "nbformat": 4,
  "nbformat_minor": 5
}